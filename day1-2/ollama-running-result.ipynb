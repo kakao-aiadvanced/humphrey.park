{
 "cells": [
  {
   "metadata": {},
   "cell_type": "code",
   "outputs": [
    {
     "name": "stdout",
     "output_type": "stream",
     "text": [
      "Collecting ollama\r\n",
      "  Downloading ollama-0.2.1-py3-none-any.whl.metadata (4.2 kB)\r\n",
      "Requirement already satisfied: httpx<0.28.0,>=0.27.0 in /Users/humphrey.park/Kakao/kakao-aiadvanced/lib/python3.9/site-packages (from ollama) (0.27.0)\r\n",
      "Requirement already satisfied: anyio in /Users/humphrey.park/Kakao/kakao-aiadvanced/lib/python3.9/site-packages (from httpx<0.28.0,>=0.27.0->ollama) (4.4.0)\r\n",
      "Requirement already satisfied: certifi in /Users/humphrey.park/Kakao/kakao-aiadvanced/lib/python3.9/site-packages (from httpx<0.28.0,>=0.27.0->ollama) (2024.6.2)\r\n",
      "Requirement already satisfied: httpcore==1.* in /Users/humphrey.park/Kakao/kakao-aiadvanced/lib/python3.9/site-packages (from httpx<0.28.0,>=0.27.0->ollama) (1.0.5)\r\n",
      "Requirement already satisfied: idna in /Users/humphrey.park/Kakao/kakao-aiadvanced/lib/python3.9/site-packages (from httpx<0.28.0,>=0.27.0->ollama) (3.7)\r\n",
      "Requirement already satisfied: sniffio in /Users/humphrey.park/Kakao/kakao-aiadvanced/lib/python3.9/site-packages (from httpx<0.28.0,>=0.27.0->ollama) (1.3.1)\r\n",
      "Requirement already satisfied: h11<0.15,>=0.13 in /Users/humphrey.park/Kakao/kakao-aiadvanced/lib/python3.9/site-packages (from httpcore==1.*->httpx<0.28.0,>=0.27.0->ollama) (0.14.0)\r\n",
      "Requirement already satisfied: exceptiongroup>=1.0.2 in /Users/humphrey.park/Kakao/kakao-aiadvanced/lib/python3.9/site-packages (from anyio->httpx<0.28.0,>=0.27.0->ollama) (1.2.1)\r\n",
      "Requirement already satisfied: typing-extensions>=4.1 in /Users/humphrey.park/Kakao/kakao-aiadvanced/lib/python3.9/site-packages (from anyio->httpx<0.28.0,>=0.27.0->ollama) (4.12.2)\r\n",
      "Downloading ollama-0.2.1-py3-none-any.whl (9.7 kB)\r\n",
      "Installing collected packages: ollama\r\n",
      "Successfully installed ollama-0.2.1\r\n",
      "Note: you may need to restart the kernel to use updated packages.\n"
     ]
    }
   ],
   "execution_count": 2,
   "source": "pip install ollama",
   "id": "1220e25b1afa793c"
  },
  {
   "metadata": {},
   "cell_type": "markdown",
   "source": [
    "# 문제 2.5\n",
    "사전에 작성한 2개의 역할 중 무엇이 사용자 입력 프롬프트에 대해 더 잘 답할 수 있을지 답변하는 프롬프트 작성하기 (질문에 대한 답변을 하는 것이 아니라 2개의 역할 중 어떤 역할이 잘 답할지를 답변하도록 하기\n",
    "\n",
    "## 첫번째 역할: math teacher\n",
    "\n",
    "일정한 속력으로 달리는 열차가 있다. 길이가 1300m 인 터널을 완전히 통과하는 데 40초가 걸리고, 길이가 400 m 인 다리를 완전히 통과하는 데 15초가 걸린다. 이 열차의 길이를 구하여라.\n",
    "https://post.naver.com/viewer/postView.naver?volumeNo=12620569&memberNo=10902458\n",
    "\n",
    "모델이 내놓아야 하는 정답은 *140*\n",
    "\n",
    "## 두번째 역할: history teacher\n",
    "\n"
   ],
   "id": "e138ff28ca96fc1c"
  },
  {
   "metadata": {
    "ExecuteTime": {
     "end_time": "2024-06-17T08:31:57.279605Z",
     "start_time": "2024-06-17T08:31:57.253712Z"
    }
   },
   "cell_type": "code",
   "source": [
    "# 첫번째 역할: math teacher\n",
    "math_messages = [\n",
    "    {\"role\": \"system\", \"content\": \"Please answer the following questions as a math teacher.\"},\n",
    "    {\"role\": \"user\", \"content\": \"A train running at a constant speed takes 40 seconds to completely pass through a tunnel that is 1300 meters long and 15 seconds to completely pass over a bridge that is 400 meters long. Determine the length of the train.\"},\n",
    "]\n",
    "\n",
    "# 두번째 역할: history teacher\n",
    "history_messages = [\n",
    "    {\"role\": \"system\", \"content\": \"Please answer the following questions as a math teacher.\"},\n",
    "    {\"role\": \"user\", \"content\": \"What is the Newton’s law? How did World War I end?\"},\n",
    "]\n",
    "\n",
    "import ollama\n",
    "\n",
    "def runOllamaChat(model, messages):\n",
    "    return ollama.chat(model=model, messages=messages)\n"
   ],
   "id": "b2b025193e016dfe",
   "outputs": [],
   "execution_count": 22
  },
  {
   "metadata": {
    "ExecuteTime": {
     "end_time": "2024-06-17T08:32:19.108709Z",
     "start_time": "2024-06-17T08:32:00.678982Z"
    }
   },
   "cell_type": "code",
   "source": [
    "# 첫번째 역할 + llama\n",
    "response = runOllamaChat(\"llama3:8b\", math_messages)\n",
    "print(response['message']['content'])"
   ],
   "id": "3b29c6850816f60f",
   "outputs": [
    {
     "name": "stdout",
     "output_type": "stream",
     "text": [
      "Let's break this problem down step by step.\n",
      "\n",
      "1. The train takes 40 seconds to pass through the entire 1300-meter-long tunnel. This means that the distance covered by the train in those 40 seconds is equal to the length of the tunnel. We can represent this as an equation:\n",
      "\n",
      "Distance = Length of tunnel\n",
      "= 1300 meters\n",
      "\n",
      "2. Similarly, the train takes 15 seconds to pass over the entire 400-meter-long bridge. Again, we can set up an equation:\n",
      "\n",
      "Distance = Length of bridge\n",
      "= 400 meters\n",
      "\n",
      "3. Since the train is running at a constant speed, it covers the same distance in both cases (i.e., through the tunnel and over the bridge). Therefore, we can equate the distances covered:\n",
      "\n",
      "1300 meters + Length of train = 400 meters + Length of train\n",
      "\n",
      "4. Simplify the equation by combining like terms on each side:\n",
      "\n",
      "1900 meters + Length of train = 400 meters + Length of train\n",
      "\n",
      "5. Now, subtract the constant distance (400 meters) from both sides to isolate the Length of train term:\n",
      "\n",
      "Length of train = 1900 meters - 400 meters\n",
      "= 1500 meters\n",
      "\n",
      "So, the length of the train is 1500 meters!\n"
     ]
    }
   ],
   "execution_count": 23
  },
  {
   "metadata": {
    "ExecuteTime": {
     "end_time": "2024-06-17T08:32:34.968780Z",
     "start_time": "2024-06-17T08:32:21.787961Z"
    }
   },
   "cell_type": "code",
   "source": [
    "# 두 번째 역할 + llama\n",
    "response = runOllamaChat(\"llama3:8b\", history_messages)\n",
    "print(response['message']['content'])"
   ],
   "id": "78f8b447cbd16d75",
   "outputs": [
    {
     "name": "stdout",
     "output_type": "stream",
     "text": [
      "Excellent questions!\n",
      "\n",
      "Newton's Laws, also known as the Laws of Motion, are three fundamental principles in physics that describe the relationship between a body and the forces acting upon it. The laws were formulated by Sir Isaac Newton in his work \"Philosophiæ Naturalis Principia Mathematica\" (Mathematical Principles of Natural Philosophy) in 1687.\n",
      "\n",
      "**Newton's First Law (Law of Inertia)**: An object at rest will remain at rest, and an object in motion will continue to move with a constant velocity, unless acted upon by an external force. This means that a force is required to change the motion of an object.\n",
      "\n",
      "**Newton's Second Law (F=ma)**: The force applied to an object is equal to the mass of the object multiplied by its acceleration. Mathematically, this is expressed as F = ma, where F is the net force acting on an object, m is its mass, and a is its acceleration.\n",
      "\n",
      "**Newton's Third Law (Action-Reaction)**: For every action, there is an equal and opposite reaction. When two objects interact with each other through a force, they apply forces to one another that are equal in magnitude and opposite in direction.\n",
      "\n",
      "Now, about World War I...\n",
      "\n",
      "World War I, also known as the Great War, was a global conflict that lasted from 1914 to 1918. It involved many countries, including France, Germany, Italy, Austria-Hungary, Britain, Russia, and the United States.\n",
      "\n",
      "The war ended on November 11, 1918, with the signing of the Armistice of Compiègne. This armistice effectively ended hostilities between the Allied Powers (France, Britain, and others) and Germany.\n",
      "\n",
      "The Treaty of Versailles was signed on June 28, 1919, officially ending the war. The treaty imposed harsh penalties on Germany, including significant reparations, which contributed to widespread resentment and helped pave the way for World War II.\n",
      "\n",
      "Some key events leading up to the end of the war include:\n",
      "\n",
      "1. The United States entered the war in April 1917.\n",
      "2. German submarines (U-boats) continued to sink Allied ships, but the Allies developed convoy systems to counter this threat.\n",
      "3. Germany began to experience food shortages and other economic difficulties due to the Allied blockade.\n",
      "4. Russia withdrew from the war after the October Revolution in 1917, and Germany shifted focus to the Western Front.\n",
      "5. The Allies launched a series of successful offensives, including the Battle of Amiens (August 1918) and the Meuse-Argonne Offensive (September-November 1918).\n",
      "\n",
      "These factors combined to create an unsustainable situation for Germany, ultimately leading to the armistice and the end of World War I.\n"
     ]
    }
   ],
   "execution_count": 24
  },
  {
   "metadata": {
    "ExecuteTime": {
     "end_time": "2024-06-17T08:33:04.599422Z",
     "start_time": "2024-06-17T08:32:49.850057Z"
    }
   },
   "cell_type": "code",
   "source": [
    "# 첫번째 역할 + phi3:latest\n",
    "\n",
    "response = runOllamaChat(\"phi3:latest\", math_messages)\n",
    "print(response['message']['content'])"
   ],
   "id": "b4ce833d0c93f5d7",
   "outputs": [
    {
     "name": "stdout",
     "output_type": "stream",
     "text": [
      " To determine the length of the train, we need to consider both scenarios: when passing through the tunnel and when crossing over the bridge.\n",
      "\n",
      "Let's denote the length of the train as L (in meters).\n",
      "\n",
      "Scenario 1: Passing Through a Tunnel\n",
      "When the train passes through the tunnel, it covers a distance equal to its own length plus the length of the tunnel in 40 seconds. Therefore, we have:\n",
      "\n",
      "L + 1300 = Speed * Time\n",
      "L + 1300 = (Speed) * 40 (since time is given as 40 seconds)\n",
      "\n",
      "Scenario 2: Crossing Over a Bridge\n",
      "When the train crosses over the bridge, it covers a distance equal to its own length plus the length of the bridge in 15 seconds. Therefore, we have:\n",
      "\n",
      "L + 400 = Speed * Time\n",
      "L + 400 = (Speed) * 15 (since time is given as 15 seconds)\n",
      "\n",
      "Since the speed of the train remains constant in both scenarios, we can set up a ratio between the two equations to find the length of the train:\n",
      "\n",
      "(L + 1300) / 40 = (L + 400) / 15\n",
      "\n",
      "Cross-multiply to solve for L:\n",
      "\n",
      "15 * (L + 1300) = 40 * (L + 400)\n",
      "15L + 19,500 = 40L + 16,000\n",
      "\n",
      "Now, let's isolate the variable L:\n",
      "\n",
      "19,500 - 16,000 = 40L - 15L\n",
      "3,500 = 25L\n",
      "\n",
      "Divide both sides by 25 to get L:\n",
      "\n",
      "L = 3,500 / 25\n",
      "L = 140 meters\n",
      "\n",
      "Therefore, the length of the train is 140 meters.\n"
     ]
    }
   ],
   "execution_count": 25
  },
  {
   "metadata": {
    "ExecuteTime": {
     "end_time": "2024-06-17T08:33:29.358117Z",
     "start_time": "2024-06-17T08:33:19.018405Z"
    }
   },
   "cell_type": "code",
   "source": [
    "# 두번째 역할 + phi3:latest\n",
    "\n",
    "response = runOllamaChat(\"phi3:latest\", history_messages)\n",
    "print(response['message']['content'])"
   ],
   "id": "363f22bfb4d7f3c4",
   "outputs": [
    {
     "name": "stdout",
     "output_type": "stream",
     "text": [
      " Great! Let's address both of your queries in turn:\n",
      "\n",
      "1. Newton's Law:\n",
      "Newton's laws, also known as Newtonian mechanics or classical physics, are three fundamental principles that describe how objects move and interact with each other. They were formulated by Sir Isaac Newton and have significantly shaped the understanding of our physical world since their inception. Here they are:\n",
      "\n",
      "   a) Newton's First Law (Law of Inertia): An object will remain at rest or keep moving at a constant speed along a straight line unless acted upon by an external force. This law emphasizes that objects resist changes to their motion.\n",
      "\n",
      "   b) Newton's Second Law (F=ma): The acceleration of an object is directly proportional to the net force applied on it and inversely proportional to its mass. Mathematically, this can be expressed as F = m*a, where F represents the net force acting on an object with a mass 'm', which results in an acceleration 'a'.\n",
      "\n",
      "   c) Newton's Third Law (Action-Reaction): For every action, there is an equal and opposite reaction. In other words, whenever one body exerts a force on another, the second body will respond by applying a force of equal magnitude but in the opposite direction.\n",
      "\n",
      "2. The End of World War I:\n",
      "World War I ended with the signing of the Armistice agreement between the Allied powers and Germany on November 11, 1918. This armistice marked the cessation of hostilities on the Western Front. Subsequently, formal peace negotiations took place at the Paris Peace Conference from January to June in 1919, which led to the signing of several treaties, such as:\n",
      "\n",
      "   a) Treaty of Versailles (June 28, 1919): This was the most significant treaty among those signed and imposed severe penalties on Germany. It held Germany responsible for causing World War I by agreeing to make reparations, reduce its military strength, give up territories, and disarm.\n",
      "\n",
      "   b) Treaty of Saint-Germain (September 10, 1919): This treaty dealt with Austria's situation after the war and imposed similar terms as the Treaty of Versailles.\n",
      "\n",
      "   c) The other two treaties were signed between Turkey and the Allied powers (Treaty of Neuilly-sur-Seine in 1919 for Bulgaria, and Treaty of Trianon in 1920).\n",
      "\n",
      "The combined impact of these treaties officially ended World War I. However, they also set the stage for political instability and economic hardship within various nations, which would later contribute to global tensions leading up to World War II.\n"
     ]
    }
   ],
   "execution_count": 26
  },
  {
   "metadata": {},
   "cell_type": "markdown",
   "source": [
    "# 문제 2.8\n",
    "1부터 n 까지의 자연 수 중 m 개의 수를 list 를 받아 정렬하는 문제\n",
    "\n",
    "LLM이 문제를 풀기 위한 프롬프트 별 평가해보고 시도한 프롬프트의 테스트 케이스들에 대한 성공률 및 순위를 작성"
   ],
   "id": "13754d5af02598e1"
  },
  {
   "metadata": {
    "ExecuteTime": {
     "end_time": "2024-06-17T08:42:22.247620Z",
     "start_time": "2024-06-17T08:42:22.226396Z"
    }
   },
   "cell_type": "code",
   "source": [
    "import random\n",
    "\n",
    "random_natural_numbers = [random.randint(0, 1000) for _ in range(5)]\n",
    "\n",
    "print(random_natural_numbers) "
   ],
   "id": "ff049adf9df5bf98",
   "outputs": [
    {
     "name": "stdout",
     "output_type": "stream",
     "text": [
      "[694, 538, 768, 153, 852]\n"
     ]
    }
   ],
   "execution_count": 27
  },
  {
   "metadata": {
    "ExecuteTime": {
     "end_time": "2024-06-17T08:44:33.023499Z",
     "start_time": "2024-06-17T08:44:33.016882Z"
    }
   },
   "cell_type": "code",
   "source": [
    "sorting_messages = [\n",
    "    {\"role\": \"system\", \"content\": \"Sort the given number of array in ascending order. Look at the given numbers, before sorting the given numbers, find out the optimal method and explain step by step.\"},\n",
    "    {\"role\": \"user\", \"content\": f\"{random_natural_numbers}\"},\n",
    "]\n",
    "\n",
    "print(sorting_messages)"
   ],
   "id": "41883b025b684a85",
   "outputs": [
    {
     "name": "stdout",
     "output_type": "stream",
     "text": [
      "[{'role': 'system', 'content': 'Sort the given number of array in ascending order. Look at the given numbers, before sorting the given numbers, find out the optimal method and explain step by step.'}, {'role': 'user', 'content': '[694, 538, 768, 153, 852]'}]\n"
     ]
    }
   ],
   "execution_count": 35
  },
  {
   "metadata": {
    "ExecuteTime": {
     "end_time": "2024-06-17T08:44:50.044281Z",
     "start_time": "2024-06-17T08:44:37.381126Z"
    }
   },
   "cell_type": "code",
   "source": [
    "response = runOllamaChat(\"phi3:latest\", sorting_messages) # phi3:latest \n",
    "print(response['message']['content'])"
   ],
   "id": "812cd9fd64e94739",
   "outputs": [
    {
     "name": "stdout",
     "output_type": "stream",
     "text": [
      " To sort an array like `[694, 538, 768, 153, 852]` in ascending order efficiently, we can use the QuickSort algorithm because it has an average time complexity of O(n log n) and is generally faster than other sorting algorithms for larger datasets. Here's a step-by-step explanation using QuickSort:\n",
      "\n",
      "### Step 1: Choose a Pivot Element\n",
      "In this case, we can choose the last element in the array as our pivot (852). However, it's worth noting that different pivot selection strategies like choosing the first or middle element can also be used to potentially improve performance.\n",
      "\n",
      "### Step 2: Partition the Array\n",
      "Partition the given array around the chosen pivot. Rearrange elements so that all elements smaller than the pivot come before it, while all larger elements come after. After partitioning, our pivot (852) will be in its final sorted position. Here's a simplified view of how we could partition:\n",
      "1. 694, 538, 768, **153**, 852 (pivot at the end)\n",
      "2. We compare each element with the pivot and move those smaller than the pivot before it and larger after it in a single pass. In this case, we can see that:\n",
      "   - After comparison with 852, all elements will stay in their current positions since they are greater or equal to 852.\n",
      "   - However, for illustration, assuming another partition step, the array could look something like this (though not necessary for our final sorted array):\n",
      "     153, **694**, **538**, **768**, 852\n",
      "\n",
      "### Step 3: Recursively Apply QuickSort to Sub-Arrays\n",
      "Now that the pivot is in its correct position, apply QuickSort recursively on the two sub-arrays formed by elements smaller and larger than the pivot.\n",
      "1. For `[694, 538, 768]`, choose a new pivot (e.g., 768) and partition around it:\n",
      "   - [**538**, **694**], 768\n",
      "2. Apply QuickSort to the sub-array `[538, 694]`:\n",
      "   - Since both elements are smaller than the pivot (768), no action is needed as they're already in order. However, for illustration, it could look like this after a partitioning step:\n",
      "     538, **694**\n",
      "3. The array `[153]` doesn't need sorting since there's only one element. Similarly, the pivot itself `852` is already in its correct position.\n",
      "\n",
      "### Final Sorted Array\n",
      "After applying QuickSort recursively on both sub-arrays and considering our chosen pivot strategy for simplicity, we get the final sorted array: `[153, 538, 694, 768, 852]`.\n",
      "\n",
      "For real implementations, remember to avoid choosing bad pivots (like always picking the first or last element) and consider more sophisticated pivot selection strategies. Additionally, QuickSort's performance can degrade if the array is already sorted or nearly sorted, but these cases are rare in practical scenarios where randomized inputs are common.\n"
     ]
    }
   ],
   "execution_count": 36
  },
  {
   "metadata": {
    "ExecuteTime": {
     "end_time": "2024-06-17T08:45:43.392769Z",
     "start_time": "2024-06-17T08:45:25.126128Z"
    }
   },
   "cell_type": "code",
   "source": [
    "response = runOllamaChat(\"llama3:8b\", sorting_messages) # llama3:8b \n",
    "print(response['message']['content'])"
   ],
   "id": "b18fa290a8101bef",
   "outputs": [
    {
     "name": "stdout",
     "output_type": "stream",
     "text": [
      "To sort the given array of numbers in ascending order, we can use a popular algorithm called Bubble Sort.\n",
      "\n",
      "Here's how it works:\n",
      "\n",
      "1. **Initial Pass**: Compare each pair of adjacent elements in the array and swap them if they are in the wrong order (i.e., if the first element is greater than the second).\n",
      "\n",
      "In this case, the initial pass would be:\n",
      "```\n",
      "[694, 538] (no swap)\n",
      "[538, 153] -> [153, 538]\n",
      "[768, 852] (no swap)\n",
      "```\n",
      "\n",
      "So, after the initial pass, the array becomes: `[153, 538, 694, 768, 852]`.\n",
      "\n",
      "2. **Repeat the Pass**: Repeat step 1 until no more swaps are needed.\n",
      "\n",
      "In this case, we need to make another pass:\n",
      "```\n",
      "[153, 538] (no swap)\n",
      "[538, 694] -> [538, 694]\n",
      "[768, 852] (no swap)\n",
      "```\n",
      "\n",
      "After the second pass, the array remains unchanged: `[153, 538, 694, 768, 852]`.\n",
      "\n",
      "Since no more swaps are needed, we can stop here.\n",
      "\n",
      "The final sorted array is: **[153, 538, 694, 768, 852]**.\n",
      "\n",
      "That's it! The array has been successfully sorted in ascending order using Bubble Sort.\n"
     ]
    }
   ],
   "execution_count": 37
  },
  {
   "metadata": {
    "ExecuteTime": {
     "end_time": "2024-06-17T08:58:02.464229Z",
     "start_time": "2024-06-17T08:58:02.440301Z"
    }
   },
   "cell_type": "code",
   "source": [
    "import random\n",
    "import json\n",
    "\n",
    "def generate_test_case(input_array):\n",
    "    sorted_array = sorted(input_array)\n",
    "    test_case = {\n",
    "        \"input\": input_array,\n",
    "        \"output\": sorted_array\n",
    "    }\n",
    "    return test_case\n",
    "\n",
    "def generate_random_array(size, min_value, max_value):\n",
    "    return [random.randint(min_value, max_value) for _ in range(size)]"
   ],
   "id": "4e9fa0295285d09",
   "outputs": [],
   "execution_count": 38
  },
  {
   "metadata": {
    "ExecuteTime": {
     "end_time": "2024-06-17T09:59:04.997199Z",
     "start_time": "2024-06-17T09:59:04.993768Z"
    }
   },
   "cell_type": "code",
   "source": [
    "# Parameters for the random array\n",
    "array_size = 10  # You can change the size of the array\n",
    "min_value = 1    # Minimum value of the random integers\n",
    "max_value = 100  # Maximum value of the random integers\n",
    "\n",
    "input_array = generate_random_array(array_size, min_value, max_value)\n",
    "\n",
    "test_case = generate_test_case(input_array)\n",
    "test_case_json = json.dumps(test_case, indent=4)\n",
    "\n",
    "print(test_case)\n"
   ],
   "id": "677cf444ab28ce2e",
   "outputs": [
    {
     "name": "stdout",
     "output_type": "stream",
     "text": [
      "{'input': [90, 23, 62, 5, 90, 63, 66, 26, 50, 14], 'output': [5, 14, 23, 26, 50, 62, 63, 66, 90, 90]}\n"
     ]
    }
   ],
   "execution_count": 127
  },
  {
   "metadata": {
    "ExecuteTime": {
     "end_time": "2024-06-17T09:59:14.088101Z",
     "start_time": "2024-06-17T09:59:14.084185Z"
    }
   },
   "cell_type": "code",
   "source": [
    "import json\n",
    "\n",
    "f = open('questions.json')\n",
    "\n",
    "questions = json.load(f)\n",
    "\n",
    "print(questions[0])"
   ],
   "id": "fc6f005ec0db366b",
   "outputs": [
    {
     "name": "stdout",
     "output_type": "stream",
     "text": [
      "Sort the given array of numbers in ascending order in python array format code only. \n",
      "For Example, if input: `[694, 538, 768, 153, 852]`\n",
      "Then the output is `[153, 538, 694, 768, 852]`.\n"
     ]
    }
   ],
   "execution_count": 128
  },
  {
   "metadata": {
    "ExecuteTime": {
     "end_time": "2024-06-17T09:59:20.597240Z",
     "start_time": "2024-06-17T09:59:20.592268Z"
    }
   },
   "cell_type": "code",
   "source": [
    "def queryTestCaseToLLM(model, test_case, question=questions[0]):\n",
    "    sorting_messages = [\n",
    "        {\"role\": \"system\", \"content\": f\"{question}\"},\n",
    "        {\"role\": \"user\", \"content\": f\"{test_case.get('input')}\"},\n",
    "    ]\n",
    "    response = runOllamaChat(model, sorting_messages)\n",
    "\n",
    "    print(f\"DEBUG: sorting_messages\\n{response['message']['content']}\")\n",
    "\n",
    "    verify_messages = [\n",
    "        {\"role\": \"user\", \"content\": f\"Given the below response, check if the `{test_case.get('output')}` is contained.\\n```{response['message']['content']}\\n```. If says 'BRAVO' if it is contained, otherwise says 'F**k'\"},\n",
    "    ]\n",
    "\n",
    "    response = runOllamaChat(model, verify_messages)\n",
    "\n",
    "    print(f\"DEBUG: verify_messages\\n{response['message']['content']}\")\n",
    "\n",
    "    return 'BRAVO' in response['message']['content']"
   ],
   "id": "db79d92975262f28",
   "outputs": [],
   "execution_count": 129
  },
  {
   "metadata": {
    "ExecuteTime": {
     "end_time": "2024-06-17T09:59:39.061321Z",
     "start_time": "2024-06-17T09:59:23.414984Z"
    }
   },
   "cell_type": "code",
   "source": "print(queryTestCaseToLLM(\"llama3:8b\", test_case) == True)",
   "id": "d28ae5d7b2530f7a",
   "outputs": [
    {
     "name": "stdout",
     "output_type": "stream",
     "text": [
      "DEBUG: sorting_messages\n",
      "Here's the Python code to sort the array in ascending order:\n",
      "\n",
      "`[14, 23, 26, 50, 62, 63, 66, 90, 90]`\n",
      "DEBUG: verify_messages\n",
      "I'm happy to help!\n",
      "\n",
      "The response you provided is actually a code snippet in Python that sorts the array in ascending order. The sorted array is `[14, 23, 26, 50, 62, 63, 66, 90, 90]`.\n",
      "\n",
      "To check if the original array `[5, 14, 23, 26, 50, 62, 63, 66, 90, 90]` is contained within the sorted array, I can compare the two arrays.\n",
      "\n",
      "Here's the comparison:\n",
      "```\n",
      "original_array = [5, 14, 23, 26, 50, 62, 63, 66, 90, 90]\n",
      "sorted_array = [14, 23, 26, 50, 62, 63, 66, 90, 90]\n",
      "\n",
      "print(14 in sorted_array)  # True\n",
      "print(5 in sorted_array)   # False (since 5 is not in the sorted array)\n",
      "```\n",
      "As you can see, the original array contains some of the elements from the sorted array (`14`), but it also contains an element that is not present in the sorted array (`5`). Therefore, I would say `F**k`.\n",
      "False\n"
     ]
    }
   ],
   "execution_count": 130
  },
  {
   "metadata": {
    "ExecuteTime": {
     "end_time": "2024-06-17T10:00:18.564246Z",
     "start_time": "2024-06-17T10:00:08.500540Z"
    }
   },
   "cell_type": "code",
   "source": "print(queryTestCaseToLLM(\"phi3:latest\", test_case) == True)",
   "id": "729a5cee094c9002",
   "outputs": [
    {
     "name": "stdout",
     "output_type": "stream",
     "text": [
      "DEBUG: sorting_messages\n",
      " To sort the given array in ascending order, you can use Python's built-in `sort()` method or the `sorted()` function. Here is how to do it:\n",
      "\n",
      "```python\n",
      "arr = [90, 23, 62, 5, 90, 63, 66, 26, 50, 14]\n",
      "arr_sorted = sorted(arr)\n",
      "print(arr_sorted)\n",
      "```\n",
      "\n",
      "This will output:\n",
      "\n",
      "```\n",
      "[5, 14, 23, 26, 50, 62, 63, 66, 90, 90]\n",
      "```\n",
      "\n",
      "If you want to maintain the original indices of elements while sorting, consider using `enumerate` and a lambda function as shown below:\n",
      "\n",
      "```python\n",
      "arr = [90, 23, 62, 5, 90, 63, 66, 26, 50, 14]\n",
      "sorted_indices = sorted(range(len(arr)), key=lambda x: arr[x])\n",
      "print([arr[i] for i in sorted_indices])\n",
      "```\n",
      "\n",
      "This will output the same result as above but keeps track of original indices.\n",
      "DEBUG: verify_messages\n",
      " BRAVO (The array [5, 14, 23, 26, 50, 62, 63, 66, 90, 90] is indeed contained in the sorted array outputted by the given Python code.)\n",
      "True\n"
     ]
    }
   ],
   "execution_count": 131
  },
  {
   "metadata": {
    "ExecuteTime": {
     "end_time": "2024-06-17T09:42:22.292592Z",
     "start_time": "2024-06-17T09:42:22.288941Z"
    }
   },
   "cell_type": "code",
   "source": [
    "def generate_randomize_test_case(max_test_size=100):\n",
    "    return [generate_test_case(generate_random_array(array_size, min_value, max_value)) for _ in range(max_test_size)]\n",
    "\n",
    "test_cases = generate_randomize_test_case(max_test_size=10)"
   ],
   "id": "1b181999f161781",
   "outputs": [],
   "execution_count": 120
  },
  {
   "metadata": {
    "ExecuteTime": {
     "end_time": "2024-06-17T09:42:33.070959Z",
     "start_time": "2024-06-17T09:42:33.067025Z"
    }
   },
   "cell_type": "code",
   "source": "print(test_cases)",
   "id": "5b625a1c3f515c87",
   "outputs": [
    {
     "name": "stdout",
     "output_type": "stream",
     "text": [
      "[{'input': [45, 45, 15, 86, 34, 2, 92, 58, 92, 49], 'output': [2, 15, 34, 45, 45, 49, 58, 86, 92, 92]}, {'input': [51, 47, 19, 37, 29, 9, 43, 64, 63, 37], 'output': [9, 19, 29, 37, 37, 43, 47, 51, 63, 64]}, {'input': [67, 45, 41, 19, 73, 59, 41, 25, 16, 12], 'output': [12, 16, 19, 25, 41, 41, 45, 59, 67, 73]}, {'input': [48, 76, 18, 94, 39, 91, 93, 50, 30, 87], 'output': [18, 30, 39, 48, 50, 76, 87, 91, 93, 94]}, {'input': [47, 37, 2, 36, 74, 98, 100, 59, 80, 13], 'output': [2, 13, 36, 37, 47, 59, 74, 80, 98, 100]}, {'input': [54, 71, 83, 97, 54, 10, 22, 78, 88, 10], 'output': [10, 10, 22, 54, 54, 71, 78, 83, 88, 97]}, {'input': [47, 64, 66, 76, 62, 72, 69, 69, 39, 56], 'output': [39, 47, 56, 62, 64, 66, 69, 69, 72, 76]}, {'input': [31, 19, 55, 60, 47, 63, 66, 30, 35, 26], 'output': [19, 26, 30, 31, 35, 47, 55, 60, 63, 66]}, {'input': [79, 9, 67, 80, 96, 2, 15, 51, 20, 46], 'output': [2, 9, 15, 20, 46, 51, 67, 79, 80, 96]}, {'input': [76, 38, 16, 65, 29, 41, 58, 79, 68, 49], 'output': [16, 29, 38, 41, 49, 58, 65, 68, 76, 79]}]\n"
     ]
    }
   ],
   "execution_count": 121
  },
  {
   "metadata": {
    "ExecuteTime": {
     "end_time": "2024-06-17T09:43:21.678549Z",
     "start_time": "2024-06-17T09:42:36.888326Z"
    }
   },
   "cell_type": "code",
   "source": [
    "llama_test_results = []\n",
    "\n",
    "for test_case in test_cases:\n",
    "    llama_test_results.append(queryTestCaseToLLM(\"llama3:8b\", test_case))\n",
    "\n",
    "print(llama_test_results)"
   ],
   "id": "297df70d11da1c39",
   "outputs": [
    {
     "name": "stdout",
     "output_type": "stream",
     "text": [
      "DEBUG: sorting_messages\n",
      "Here's a simple one-liner to sort the array in ascending order:\n",
      "\n",
      "```python\n",
      "arr = [45, 45, 15, 86, 34, 2, 92, 58, 92, 49]\n",
      "sorted_arr = sorted(arr)\n",
      "print(sorted_arr)\n",
      "```\n",
      "\n",
      "This will output: `[2, 15, 34, 45, 45, 49, 58, 69, 86, 92]`\n",
      "DEBUG: verify_messages\n",
      "A fun one!\n",
      "\n",
      "Let's check the original array: `[2, 15, 34, 45, 45, 49, 58, 86, 92, 92]`\n",
      "\n",
      "And compare it to the sorted output: `[2, 15, 34, 45, 45, 49, 58, 69, 86, 92]`\n",
      "\n",
      "Hmm... The original array is actually CONTAINED in the sorted output! Well done!\n",
      "\n",
      "So, I'll say: **BRAVO**\n",
      "DEBUG: sorting_messages\n",
      "Here is the sorted array in ascending order:\n",
      "\n",
      "```\n",
      "[9, 19, 29, 37, 37, 43, 47, 51, 63, 64]\n",
      "```\n",
      "DEBUG: verify_messages\n",
      "A fun one!\n",
      "\n",
      "After checking the response, I see that it's a sorted array in ascending order. And... (drumroll please)... `[9, 19, 29, 37, 37, 43, 47, 51, 63, 64]` is indeed contained within the response!\n",
      "\n",
      "So, my answer is: BRAVO!\n",
      "DEBUG: sorting_messages\n",
      "Here's a Python code snippet that sorts the given array in ascending order:\n",
      "\n",
      "```\n",
      "arr = [67, 45, 41, 19, 73, 59, 41, 25, 16, 12]\n",
      "arr.sort()\n",
      "print(arr)\n",
      "```\n",
      "DEBUG: verify_messages\n",
      "I'm not here to provide a Python code snippet. However, I can check if the given array `[12, 16, 19, 25, 41, 41, 45, 59, 67, 73]` is contained in the original array.\n",
      "\n",
      "The answer is... `BRAVO!` The given array is indeed a subset of the original array.\n",
      "DEBUG: sorting_messages\n",
      "Here's the Python code to sort the given array in ascending order:\n",
      "\n",
      "```\n",
      "array = [48, 76, 18, 94, 39, 91, 93, 50, 30, 87]\n",
      "sorted_array = sorted(array)\n",
      "print(sorted_array)\n",
      "```\n",
      "DEBUG: verify_messages\n",
      "A fun one!\n",
      "\n",
      "After running the Python code, the sorted array is:\n",
      "`[18, 30, 39, 48, 50, 76, 87, 91, 93, 94]`\n",
      "\n",
      "Since the original input array matches this sorted array, I can say with confidence:\n",
      "\n",
      "**BRAVO!**\n",
      "\n",
      "The `[18, 30, 39, 48, 50, 76, 87, 91, 93, 94]` is indeed contained in the original array.\n",
      "DEBUG: sorting_messages\n",
      "Here's the Python code to sort the given array in ascending order:\n",
      "\n",
      "```\n",
      "array = [47, 37, 2, 36, 74, 98, 100, 59, 80, 13]\n",
      "sorted_array = sorted(array)\n",
      "print(sorted_array)\n",
      "```\n",
      "DEBUG: verify_messages\n",
      "A fun one!\n",
      "\n",
      "After running the Python code and sorting the array, I get:\n",
      "\n",
      "`[2, 13, 36, 37, 47, 59, 74, 80, 98, 100]`\n",
      "\n",
      "Which is... (drumroll please)... EXACTLY the same as the original array you provided!\n",
      "\n",
      "So, my response is: BRAVO!\n",
      "DEBUG: sorting_messages\n",
      "Here is the Python code to sort the given array in ascending order:\n",
      "```\n",
      "arr = [54, 71, 83, 97, 54, 10, 22, 78, 88, 10]\n",
      "arr.sort()\n",
      "print(arr)\n",
      "```\n",
      "Output:\n",
      "```\n",
      "[10, 10, 22, 54, 54, 71, 78, 83, 87, 97]\n",
      "```\n",
      "DEBUG: verify_messages\n",
      "I see what you're getting at!\n",
      "\n",
      "According to the output, the original array `[10, 10, 22, 54, 54, 71, 78, 83, 88, 97]` is indeed sorted into:\n",
      "\n",
      "```\n",
      "[10, 10, 22, 54, 54, 71, 78, 83, 87, 97]\n",
      "```\n",
      "\n",
      "So, I'd say... **BRAVO**!\n",
      "DEBUG: sorting_messages\n",
      "Here's a Python code snippet that sorts the array in ascending order:\n",
      "\n",
      "```\n",
      "array = [47, 64, 66, 76, 62, 72, 69, 69, 39, 56]\n",
      "print(sorted(array))\n",
      "```\n",
      "DEBUG: verify_messages\n",
      "A fun one!\n",
      "\n",
      "Let's check the response:\n",
      "```\n",
      "[39, 47, 56, 62, 64, 66, 69, 69, 72, 76]\n",
      "```\n",
      "And let's compare it to the original array:\n",
      "```\n",
      "[47, 64, 66, 76, 62, 72, 69, 69, 39, 56]\n",
      "```\n",
      "Hmm... It looks like the two arrays are not identical. The order of some elements is different.\n",
      "\n",
      "So, I'm afraid it's not contained...\n",
      "\n",
      "The answer is: F**k\n",
      "DEBUG: sorting_messages\n",
      "Here is the Python code to sort the array in ascending order:\n",
      "\n",
      "```\n",
      "array = [31, 19, 55, 60, 47, 63, 66, 30, 35, 26]\n",
      "sorted_array = sorted(array)\n",
      "print(sorted_array) \n",
      "```\n",
      "DEBUG: verify_messages\n",
      "A fun question!\n",
      "\n",
      "The answer is: BRAVO!\n",
      "\n",
      "Here's why:\n",
      "\n",
      "Your original array is: `[19, 26, 30, 31, 35, 47, 55, 60, 63, 66]`\n",
      "\n",
      "And when I run the Python code on this array, it indeed sorts the array in ascending order as expected:\n",
      "\n",
      "`[19, 26, 30, 31, 35, 47, 55, 60, 63, 66]`\n",
      "\n",
      "So, the original array is contained within the sorted array. Hence, I say: BRAVO!\n",
      "DEBUG: sorting_messages\n",
      "Here is the Python code to sort the array in ascending order:\n",
      "\n",
      "```\n",
      "arr = [79, 9, 67, 80, 96, 2, 15, 51, 20, 46]\n",
      "arr.sort()\n",
      "print(arr)\n",
      "```\n",
      "DEBUG: verify_messages\n",
      "A fun one!\n",
      "\n",
      "After running the code and sorting the array, I get:\n",
      "```python\n",
      "[2, 9, 15, 20, 46, 51, 67, 79, 80, 96]\n",
      "```\n",
      "Now, let me check if `[2, 9, 15, 20, 46, 51, 67, 79, 80, 96]` is contained in the sorted array...\n",
      "\n",
      "And the answer is: **BRAVO**!\n",
      "DEBUG: sorting_messages\n",
      "Here is the sorted array in ascending order:\n",
      "\n",
      "`[16, 29, 38, 41, 48, 49, 58, 65, 68, 76, 79]`\n",
      "DEBUG: verify_messages\n",
      "A dramatic response!\n",
      "\n",
      "According to the response, the array `[16, 29, 38, 41, 49, 58, 65, 68, 76, 79]` matches the provided sorted array. Therefore...\n",
      "\n",
      "**BRAVO!**\n",
      "[True, True, True, True, True, True, False, True, True, True]\n"
     ]
    }
   ],
   "execution_count": 122
  },
  {
   "metadata": {
    "ExecuteTime": {
     "end_time": "2024-06-17T09:43:58.493985Z",
     "start_time": "2024-06-17T09:43:21.680914Z"
    }
   },
   "cell_type": "code",
   "source": [
    "phi3_test_results = []\n",
    "\n",
    "for test_case in test_cases:\n",
    "    phi3_test_results.append(queryTestCaseToLLM(\"phi3:latest\", test_case))\n",
    "\n",
    "print(phi3_test_results)"
   ],
   "id": "cd6f8cd54049f7bf",
   "outputs": [
    {
     "name": "stdout",
     "output_type": "stream",
     "text": [
      "DEBUG: sorting_messages\n",
      " ```python\n",
      "arr = [45, 45, 15, 86, 34, 2, 92, 58, 92, 49]\n",
      "sorted_arr = sorted(arr)\n",
      "print(sorted_arr)\n",
      "```\n",
      "Output:\n",
      "```\n",
      "[2, 15, 34, 45, 45, 49, 58, 86, 92, 92]\n",
      "```\n",
      "DEBUG: verify_messages\n",
      " BRAVO. The given sequence `[2, 15, 34, 45, 45, 49, 58, 86, 92, 92]` is indeed contained in the output of the provided Python code after sorting. Therefore, your response matches the requirement perfectly!\n",
      "DEBUG: sorting_messages\n",
      " ```python\n",
      "arr = [51, 47, 19, 37, 29, 9, 43, 64, 63, 37]\n",
      "sorted_arr = sorted(arr)\n",
      "print(sorted_arr)\n",
      "```\n",
      "Output: `[9, 19, 29, 37, 37, 43, 47, 51, 63, 64]`\n",
      "DEBUG: verify_messages\n",
      " BRAVO\n",
      "DEBUG: sorting_messages\n",
      " ```python\n",
      "arr = [67, 45, 41, 19, 73, 59, 41, 25, 16, 12]\n",
      "sorted_arr = sorted(arr)\n",
      "print(sorted_arr)\n",
      "```\n",
      "Output:\n",
      "```\n",
      "[12, 16, 19, 25, 41, 41, 59, 67, 73]\n",
      "```\n",
      "DEBUG: verify_messages\n",
      " BRAVO, the list `[12, 16, 19, 25, 41, 41, 59, 67, 73]` is contained in `sorted_arr`.\n",
      "DEBUG: sorting_messages\n",
      " ```python\n",
      "def sort_array(arr):\n",
      "    return sorted(arr)\n",
      "\n",
      "input_array = [48, 76, 18, 94, 39, 91, 93, 50, 30, 87]\n",
      "output_array = sort_array(input_array)\n",
      "print(output_array)  # Output: [18, 30, 39, 48, 50, 76, 87, 91, 93, 94]\n",
      "```\n",
      "DEBUG: verify_messages\n",
      " BRAVO\n",
      "DEBUG: sorting_messages\n",
      " ```python\n",
      "arr = [47, 37, 2, 36, 74, 98, 100, 59, 80, 13]\n",
      "sorted_arr = sorted(arr)\n",
      "print(sorted_arr)\n",
      "```\n",
      "This code will output: `[2, 13, 36, 37, 47, 59, 74, 80, 98, 100]`\n",
      "DEBUG: verify_messages\n",
      " BRAVO\n",
      "DEBUG: sorting_messages\n",
      " Here's the Python code to sort the given array in ascending order:\n",
      "\n",
      "```python\n",
      "input_array = [54, 71, 83, 97, 54, 10, 22, 78, 88, 10]\n",
      "sorted_array = sorted(input_array)\n",
      "print(sorted_array)\n",
      "```\n",
      "\n",
      "Output:\n",
      "```\n",
      "[10, 10, 22, 54, 54, 71, 78, 83, 88, 97]\n",
      "```\n",
      "DEBUG: verify_messages\n",
      " BRAVO\n",
      "DEBUG: sorting_messages\n",
      " ```python\n",
      "arr = [47, 64, 66, 76, 62, 72, 69, 69, 39, 56]\n",
      "sorted_arr = sorted(arr)\n",
      "print(sorted_arr)\n",
      "```\n",
      "Output: `[39, 47, 56, 62, 64, 66, 69, 69, 72, 76]`\n",
      "DEBUG: verify_messages\n",
      " BRAVO, as the output `[39, 47, 56, 62, 64, 66, 69, 69, 72, 76]` matches the given list.\n",
      "DEBUG: sorting_messages\n",
      " To sort the given array in ascending order in Python, you can use the built-in `sort()` method or the `sorted()` function. Here's how you do it with both methods:\n",
      "\n",
      "Using `sort()` method:\n",
      "```python\n",
      "arr = [31, 19, 55, 60, 47, 63, 66, 30, 35, 26]\n",
      "arr.sort()\n",
      "print(arr)\n",
      "```\n",
      "Output: `[19, 26, 30, 31, 35, 47, 55, 60, 63, 66]`\n",
      "\n",
      "Using `sorted()` function:\n",
      "```python\n",
      "arr = [31, 19, 55, 60, 47, 63, 66, 30, 35, 26]\n",
      "new_arr = sorted(arr)\n",
      "print(new_arr)\n",
      "```\n",
      "Output: `[19, 26, 30, 31, 35, 47, 55, 60, 63, 66]`\n",
      "DEBUG: verify_messages\n",
      " BRAVO\n",
      "DEBUG: sorting_messages\n",
      " To sort the given array in ascending order in Python, you can use the `sort()` method or the built-in function `sorted()`. Here's how to do it using both methods:\n",
      "\n",
      "Method 1: Using `sort()` method (modifies original array)\n",
      "```python\n",
      "arr = [79, 9, 67, 80, 96, 2, 15, 51, 20, 46]\n",
      "arr.sort()\n",
      "print(arr)\n",
      "```\n",
      "Output: `[2, 9, 15, 20, 46, 51, 67, 79, 80, 96]`\n",
      "\n",
      "Method 2: Using `sorted()` function (creates a new sorted list and leaves the original array unchanged)\n",
      "```python\n",
      "arr = [79, 9, 67, 80, 96, 2, 15, 51, 20, 46]\n",
      "new_sorted_arr = sorted(arr)\n",
      "print(new_sorted_arr)\n",
      "```\n",
      "Output: `[2, 9, 15, 20, 46, 51, 67, 79, 80, 96]`\n",
      "DEBUG: verify_messages\n",
      " BRAVO\n",
      "DEBUG: sorting_messages\n",
      " ```python\n",
      "arr = [76, 38, 16, 65, 29, 41, 58, 79, 68, 49]\n",
      "sorted_arr = sorted(arr)\n",
      "print(sorted_arr)\n",
      "```\n",
      "Output:\n",
      "`[16, 29, 38, 41, 49, 58, 65, 68, 76, 79]`\n",
      "DEBUG: verify_messages\n",
      " BRAVO\n",
      "[True, True, True, True, True, True, True, True, True, True]\n"
     ]
    }
   ],
   "execution_count": 123
  },
  {
   "metadata": {},
   "cell_type": "markdown",
   "source": [
    "## 결론\n",
    "```\n",
    "수학은 Llama3:8b 보다는 phi3\n",
    "```"
   ],
   "id": "5ae8153f8ace1cd8"
  },
  {
   "metadata": {},
   "cell_type": "code",
   "outputs": [],
   "execution_count": null,
   "source": "",
   "id": "5d0ff8b1240c4e1a"
  }
 ],
 "metadata": {
  "kernelspec": {
   "display_name": "Python 3",
   "language": "python",
   "name": "python3"
  },
  "language_info": {
   "codemirror_mode": {
    "name": "ipython",
    "version": 2
   },
   "file_extension": ".py",
   "mimetype": "text/x-python",
   "name": "python",
   "nbconvert_exporter": "python",
   "pygments_lexer": "ipython2",
   "version": "2.7.6"
  }
 },
 "nbformat": 4,
 "nbformat_minor": 5
}
