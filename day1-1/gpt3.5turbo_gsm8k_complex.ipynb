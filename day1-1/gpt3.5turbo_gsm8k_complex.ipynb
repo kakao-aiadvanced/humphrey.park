{
 "cells": [
  {
   "metadata": {
    "ExecuteTime": {
     "end_time": "2024-06-17T07:21:40.177664Z",
     "start_time": "2024-06-17T07:21:39.070620Z"
    }
   },
   "cell_type": "code",
   "source": "pip install openai==0.28.1",
   "id": "d0c9de98153ca25f",
   "outputs": [
    {
     "name": "stdout",
     "output_type": "stream",
     "text": [
      "Requirement already satisfied: openai==0.28.1 in /Users/humphrey.park/Kakao/kakao-aiadvanced/lib/python3.9/site-packages (0.28.1)\r\n",
      "Requirement already satisfied: requests>=2.20 in /Users/humphrey.park/Kakao/kakao-aiadvanced/lib/python3.9/site-packages (from openai==0.28.1) (2.32.3)\r\n",
      "Requirement already satisfied: tqdm in /Users/humphrey.park/Kakao/kakao-aiadvanced/lib/python3.9/site-packages (from openai==0.28.1) (4.66.4)\r\n",
      "Requirement already satisfied: aiohttp in /Users/humphrey.park/Kakao/kakao-aiadvanced/lib/python3.9/site-packages (from openai==0.28.1) (3.9.5)\r\n",
      "Requirement already satisfied: charset-normalizer<4,>=2 in /Users/humphrey.park/Kakao/kakao-aiadvanced/lib/python3.9/site-packages (from requests>=2.20->openai==0.28.1) (3.3.2)\r\n",
      "Requirement already satisfied: idna<4,>=2.5 in /Users/humphrey.park/Kakao/kakao-aiadvanced/lib/python3.9/site-packages (from requests>=2.20->openai==0.28.1) (3.7)\r\n",
      "Requirement already satisfied: urllib3<3,>=1.21.1 in /Users/humphrey.park/Kakao/kakao-aiadvanced/lib/python3.9/site-packages (from requests>=2.20->openai==0.28.1) (2.2.1)\r\n",
      "Requirement already satisfied: certifi>=2017.4.17 in /Users/humphrey.park/Kakao/kakao-aiadvanced/lib/python3.9/site-packages (from requests>=2.20->openai==0.28.1) (2024.6.2)\r\n",
      "Requirement already satisfied: aiosignal>=1.1.2 in /Users/humphrey.park/Kakao/kakao-aiadvanced/lib/python3.9/site-packages (from aiohttp->openai==0.28.1) (1.3.1)\r\n",
      "Requirement already satisfied: attrs>=17.3.0 in /Users/humphrey.park/Kakao/kakao-aiadvanced/lib/python3.9/site-packages (from aiohttp->openai==0.28.1) (23.2.0)\r\n",
      "Requirement already satisfied: frozenlist>=1.1.1 in /Users/humphrey.park/Kakao/kakao-aiadvanced/lib/python3.9/site-packages (from aiohttp->openai==0.28.1) (1.4.1)\r\n",
      "Requirement already satisfied: multidict<7.0,>=4.5 in /Users/humphrey.park/Kakao/kakao-aiadvanced/lib/python3.9/site-packages (from aiohttp->openai==0.28.1) (6.0.5)\r\n",
      "Requirement already satisfied: yarl<2.0,>=1.0 in /Users/humphrey.park/Kakao/kakao-aiadvanced/lib/python3.9/site-packages (from aiohttp->openai==0.28.1) (1.9.4)\r\n",
      "Requirement already satisfied: async-timeout<5.0,>=4.0 in /Users/humphrey.park/Kakao/kakao-aiadvanced/lib/python3.9/site-packages (from aiohttp->openai==0.28.1) (4.0.3)\r\n",
      "Note: you may need to restart the kernel to use updated packages.\n"
     ]
    }
   ],
   "execution_count": 11
  },
  {
   "metadata": {
    "ExecuteTime": {
     "end_time": "2024-06-17T07:21:41.208669Z",
     "start_time": "2024-06-17T07:21:40.178966Z"
    }
   },
   "cell_type": "code",
   "source": "pip install llmlingua",
   "id": "a5d1f7d700966d34",
   "outputs": [
    {
     "name": "stdout",
     "output_type": "stream",
     "text": [
      "Requirement already satisfied: llmlingua in /Users/humphrey.park/Kakao/kakao-aiadvanced/lib/python3.9/site-packages (0.2.2)\r\n",
      "Requirement already satisfied: transformers>=4.26.0 in /Users/humphrey.park/Kakao/kakao-aiadvanced/lib/python3.9/site-packages (from llmlingua) (4.41.2)\r\n",
      "Requirement already satisfied: accelerate in /Users/humphrey.park/Kakao/kakao-aiadvanced/lib/python3.9/site-packages (from llmlingua) (0.31.0)\r\n",
      "Requirement already satisfied: torch in /Users/humphrey.park/Kakao/kakao-aiadvanced/lib/python3.9/site-packages (from llmlingua) (2.3.1)\r\n",
      "Requirement already satisfied: tiktoken in /Users/humphrey.park/Kakao/kakao-aiadvanced/lib/python3.9/site-packages (from llmlingua) (0.7.0)\r\n",
      "Requirement already satisfied: nltk in /Users/humphrey.park/Kakao/kakao-aiadvanced/lib/python3.9/site-packages (from llmlingua) (3.8.1)\r\n",
      "Requirement already satisfied: numpy in /Users/humphrey.park/Kakao/kakao-aiadvanced/lib/python3.9/site-packages (from llmlingua) (2.0.0)\r\n",
      "Requirement already satisfied: filelock in /Users/humphrey.park/Kakao/kakao-aiadvanced/lib/python3.9/site-packages (from transformers>=4.26.0->llmlingua) (3.15.1)\r\n",
      "Requirement already satisfied: huggingface-hub<1.0,>=0.23.0 in /Users/humphrey.park/Kakao/kakao-aiadvanced/lib/python3.9/site-packages (from transformers>=4.26.0->llmlingua) (0.23.4)\r\n",
      "Requirement already satisfied: packaging>=20.0 in /Users/humphrey.park/Kakao/kakao-aiadvanced/lib/python3.9/site-packages (from transformers>=4.26.0->llmlingua) (24.1)\r\n",
      "Requirement already satisfied: pyyaml>=5.1 in /Users/humphrey.park/Kakao/kakao-aiadvanced/lib/python3.9/site-packages (from transformers>=4.26.0->llmlingua) (6.0.1)\r\n",
      "Requirement already satisfied: regex!=2019.12.17 in /Users/humphrey.park/Kakao/kakao-aiadvanced/lib/python3.9/site-packages (from transformers>=4.26.0->llmlingua) (2024.5.15)\r\n",
      "Requirement already satisfied: requests in /Users/humphrey.park/Kakao/kakao-aiadvanced/lib/python3.9/site-packages (from transformers>=4.26.0->llmlingua) (2.32.3)\r\n",
      "Requirement already satisfied: tokenizers<0.20,>=0.19 in /Users/humphrey.park/Kakao/kakao-aiadvanced/lib/python3.9/site-packages (from transformers>=4.26.0->llmlingua) (0.19.1)\r\n",
      "Requirement already satisfied: safetensors>=0.4.1 in /Users/humphrey.park/Kakao/kakao-aiadvanced/lib/python3.9/site-packages (from transformers>=4.26.0->llmlingua) (0.4.3)\r\n",
      "Requirement already satisfied: tqdm>=4.27 in /Users/humphrey.park/Kakao/kakao-aiadvanced/lib/python3.9/site-packages (from transformers>=4.26.0->llmlingua) (4.66.4)\r\n",
      "Requirement already satisfied: psutil in /Users/humphrey.park/Kakao/kakao-aiadvanced/lib/python3.9/site-packages (from accelerate->llmlingua) (5.9.8)\r\n",
      "Requirement already satisfied: typing-extensions>=4.8.0 in /Users/humphrey.park/Kakao/kakao-aiadvanced/lib/python3.9/site-packages (from torch->llmlingua) (4.12.2)\r\n",
      "Requirement already satisfied: sympy in /Users/humphrey.park/Kakao/kakao-aiadvanced/lib/python3.9/site-packages (from torch->llmlingua) (1.12.1)\r\n",
      "Requirement already satisfied: networkx in /Users/humphrey.park/Kakao/kakao-aiadvanced/lib/python3.9/site-packages (from torch->llmlingua) (3.2.1)\r\n",
      "Requirement already satisfied: jinja2 in /Users/humphrey.park/Kakao/kakao-aiadvanced/lib/python3.9/site-packages (from torch->llmlingua) (3.1.4)\r\n",
      "Requirement already satisfied: fsspec in /Users/humphrey.park/Kakao/kakao-aiadvanced/lib/python3.9/site-packages (from torch->llmlingua) (2024.5.0)\r\n",
      "Requirement already satisfied: click in /Users/humphrey.park/Kakao/kakao-aiadvanced/lib/python3.9/site-packages (from nltk->llmlingua) (8.1.7)\r\n",
      "Requirement already satisfied: joblib in /Users/humphrey.park/Kakao/kakao-aiadvanced/lib/python3.9/site-packages (from nltk->llmlingua) (1.4.2)\r\n",
      "Requirement already satisfied: charset-normalizer<4,>=2 in /Users/humphrey.park/Kakao/kakao-aiadvanced/lib/python3.9/site-packages (from requests->transformers>=4.26.0->llmlingua) (3.3.2)\r\n",
      "Requirement already satisfied: idna<4,>=2.5 in /Users/humphrey.park/Kakao/kakao-aiadvanced/lib/python3.9/site-packages (from requests->transformers>=4.26.0->llmlingua) (3.7)\r\n",
      "Requirement already satisfied: urllib3<3,>=1.21.1 in /Users/humphrey.park/Kakao/kakao-aiadvanced/lib/python3.9/site-packages (from requests->transformers>=4.26.0->llmlingua) (2.2.1)\r\n",
      "Requirement already satisfied: certifi>=2017.4.17 in /Users/humphrey.park/Kakao/kakao-aiadvanced/lib/python3.9/site-packages (from requests->transformers>=4.26.0->llmlingua) (2024.6.2)\r\n",
      "Requirement already satisfied: MarkupSafe>=2.0 in /Users/humphrey.park/Kakao/kakao-aiadvanced/lib/python3.9/site-packages (from jinja2->torch->llmlingua) (2.1.5)\r\n",
      "Requirement already satisfied: mpmath<1.4.0,>=1.1.0 in /Users/humphrey.park/Kakao/kakao-aiadvanced/lib/python3.9/site-packages (from sympy->torch->llmlingua) (1.3.0)\r\n",
      "Note: you may need to restart the kernel to use updated packages.\n"
     ]
    }
   ],
   "execution_count": 12
  },
  {
   "metadata": {
    "ExecuteTime": {
     "end_time": "2024-06-17T07:21:42.234662Z",
     "start_time": "2024-06-17T07:21:41.209923Z"
    }
   },
   "cell_type": "code",
   "source": "pip install datasets",
   "id": "86545b23e49e0279",
   "outputs": [
    {
     "name": "stdout",
     "output_type": "stream",
     "text": [
      "Requirement already satisfied: datasets in /Users/humphrey.park/Kakao/kakao-aiadvanced/lib/python3.9/site-packages (2.20.0)\r\n",
      "Requirement already satisfied: filelock in /Users/humphrey.park/Kakao/kakao-aiadvanced/lib/python3.9/site-packages (from datasets) (3.15.1)\r\n",
      "Requirement already satisfied: numpy>=1.17 in /Users/humphrey.park/Kakao/kakao-aiadvanced/lib/python3.9/site-packages (from datasets) (2.0.0)\r\n",
      "Requirement already satisfied: pyarrow>=15.0.0 in /Users/humphrey.park/Kakao/kakao-aiadvanced/lib/python3.9/site-packages (from datasets) (16.1.0)\r\n",
      "Requirement already satisfied: pyarrow-hotfix in /Users/humphrey.park/Kakao/kakao-aiadvanced/lib/python3.9/site-packages (from datasets) (0.6)\r\n",
      "Requirement already satisfied: dill<0.3.9,>=0.3.0 in /Users/humphrey.park/Kakao/kakao-aiadvanced/lib/python3.9/site-packages (from datasets) (0.3.8)\r\n",
      "Requirement already satisfied: pandas in /Users/humphrey.park/Kakao/kakao-aiadvanced/lib/python3.9/site-packages (from datasets) (2.2.2)\r\n",
      "Requirement already satisfied: requests>=2.32.2 in /Users/humphrey.park/Kakao/kakao-aiadvanced/lib/python3.9/site-packages (from datasets) (2.32.3)\r\n",
      "Requirement already satisfied: tqdm>=4.66.3 in /Users/humphrey.park/Kakao/kakao-aiadvanced/lib/python3.9/site-packages (from datasets) (4.66.4)\r\n",
      "Requirement already satisfied: xxhash in /Users/humphrey.park/Kakao/kakao-aiadvanced/lib/python3.9/site-packages (from datasets) (3.4.1)\r\n",
      "Requirement already satisfied: multiprocess in /Users/humphrey.park/Kakao/kakao-aiadvanced/lib/python3.9/site-packages (from datasets) (0.70.16)\r\n",
      "Requirement already satisfied: fsspec<=2024.5.0,>=2023.1.0 in /Users/humphrey.park/Kakao/kakao-aiadvanced/lib/python3.9/site-packages (from fsspec[http]<=2024.5.0,>=2023.1.0->datasets) (2024.5.0)\r\n",
      "Requirement already satisfied: aiohttp in /Users/humphrey.park/Kakao/kakao-aiadvanced/lib/python3.9/site-packages (from datasets) (3.9.5)\r\n",
      "Requirement already satisfied: huggingface-hub>=0.21.2 in /Users/humphrey.park/Kakao/kakao-aiadvanced/lib/python3.9/site-packages (from datasets) (0.23.4)\r\n",
      "Requirement already satisfied: packaging in /Users/humphrey.park/Kakao/kakao-aiadvanced/lib/python3.9/site-packages (from datasets) (24.1)\r\n",
      "Requirement already satisfied: pyyaml>=5.1 in /Users/humphrey.park/Kakao/kakao-aiadvanced/lib/python3.9/site-packages (from datasets) (6.0.1)\r\n",
      "Requirement already satisfied: aiosignal>=1.1.2 in /Users/humphrey.park/Kakao/kakao-aiadvanced/lib/python3.9/site-packages (from aiohttp->datasets) (1.3.1)\r\n",
      "Requirement already satisfied: attrs>=17.3.0 in /Users/humphrey.park/Kakao/kakao-aiadvanced/lib/python3.9/site-packages (from aiohttp->datasets) (23.2.0)\r\n",
      "Requirement already satisfied: frozenlist>=1.1.1 in /Users/humphrey.park/Kakao/kakao-aiadvanced/lib/python3.9/site-packages (from aiohttp->datasets) (1.4.1)\r\n",
      "Requirement already satisfied: multidict<7.0,>=4.5 in /Users/humphrey.park/Kakao/kakao-aiadvanced/lib/python3.9/site-packages (from aiohttp->datasets) (6.0.5)\r\n",
      "Requirement already satisfied: yarl<2.0,>=1.0 in /Users/humphrey.park/Kakao/kakao-aiadvanced/lib/python3.9/site-packages (from aiohttp->datasets) (1.9.4)\r\n",
      "Requirement already satisfied: async-timeout<5.0,>=4.0 in /Users/humphrey.park/Kakao/kakao-aiadvanced/lib/python3.9/site-packages (from aiohttp->datasets) (4.0.3)\r\n",
      "Requirement already satisfied: typing-extensions>=3.7.4.3 in /Users/humphrey.park/Kakao/kakao-aiadvanced/lib/python3.9/site-packages (from huggingface-hub>=0.21.2->datasets) (4.12.2)\r\n",
      "Requirement already satisfied: charset-normalizer<4,>=2 in /Users/humphrey.park/Kakao/kakao-aiadvanced/lib/python3.9/site-packages (from requests>=2.32.2->datasets) (3.3.2)\r\n",
      "Requirement already satisfied: idna<4,>=2.5 in /Users/humphrey.park/Kakao/kakao-aiadvanced/lib/python3.9/site-packages (from requests>=2.32.2->datasets) (3.7)\r\n",
      "Requirement already satisfied: urllib3<3,>=1.21.1 in /Users/humphrey.park/Kakao/kakao-aiadvanced/lib/python3.9/site-packages (from requests>=2.32.2->datasets) (2.2.1)\r\n",
      "Requirement already satisfied: certifi>=2017.4.17 in /Users/humphrey.park/Kakao/kakao-aiadvanced/lib/python3.9/site-packages (from requests>=2.32.2->datasets) (2024.6.2)\r\n",
      "Requirement already satisfied: python-dateutil>=2.8.2 in /Users/humphrey.park/Kakao/kakao-aiadvanced/lib/python3.9/site-packages (from pandas->datasets) (2.9.0.post0)\r\n",
      "Requirement already satisfied: pytz>=2020.1 in /Users/humphrey.park/Kakao/kakao-aiadvanced/lib/python3.9/site-packages (from pandas->datasets) (2024.1)\r\n",
      "Requirement already satisfied: tzdata>=2022.7 in /Users/humphrey.park/Kakao/kakao-aiadvanced/lib/python3.9/site-packages (from pandas->datasets) (2024.1)\r\n",
      "Requirement already satisfied: six>=1.5 in /Users/humphrey.park/Kakao/kakao-aiadvanced/lib/python3.9/site-packages (from python-dateutil>=2.8.2->pandas->datasets) (1.16.0)\r\n",
      "Note: you may need to restart the kernel to use updated packages.\n"
     ]
    }
   ],
   "execution_count": 13
  },
  {
   "metadata": {
    "ExecuteTime": {
     "end_time": "2024-06-17T07:21:42.239056Z",
     "start_time": "2024-06-17T07:21:42.236601Z"
    }
   },
   "cell_type": "code",
   "source": [
    "import openai\n",
    "import re\n",
    "import time\n",
    "import os\n",
    "import numpy as np\n",
    "\n",
    "from tqdm import tqdm\n",
    "from datasets import load_dataset"
   ],
   "id": "initial_id",
   "outputs": [],
   "execution_count": 14
  },
  {
   "metadata": {},
   "cell_type": "code",
   "outputs": [],
   "execution_count": null,
   "source": "pip install python-dotenv",
   "id": "be4091f1a15459a4"
  },
  {
   "metadata": {},
   "cell_type": "code",
   "outputs": [],
   "execution_count": 15,
   "source": [
    "from dotenv import load_dotenv\n",
    "\n",
    "# load .env\n",
    "load_dotenv()\n",
    "\n",
    "openai.api_key = os.environ.get('OPENAI_API_KEY')"
   ],
   "id": "ba85f403856dad8e"
  },
  {
   "metadata": {
    "ExecuteTime": {
     "end_time": "2024-06-17T07:21:49.300506Z",
     "start_time": "2024-06-17T07:21:42.243107Z"
    }
   },
   "cell_type": "code",
   "source": [
    "gsm8k = load_dataset('gsm8k', 'main')\n",
    "validation_index = np.load('./lib_prompt/validation_index.npy')\n",
    "validation_data = gsm8k['train'].select(validation_index)\n",
    "gsm8k_test = gsm8k['test']"
   ],
   "id": "30e30636ee857c4d",
   "outputs": [],
   "execution_count": 16
  },
  {
   "metadata": {
    "ExecuteTime": {
     "end_time": "2024-06-17T07:21:49.307064Z",
     "start_time": "2024-06-17T07:21:49.301581Z"
    }
   },
   "cell_type": "code",
   "source": "gsm8k['train'][0]['question']",
   "id": "d450d8da00d63356",
   "outputs": [
    {
     "data": {
      "text/plain": [
       "'Natalia sold clips to 48 of her friends in April, and then she sold half as many clips in May. How many clips did Natalia sell altogether in April and May?'"
      ]
     },
     "execution_count": 17,
     "metadata": {},
     "output_type": "execute_result"
    }
   ],
   "execution_count": 17
  },
  {
   "metadata": {
    "ExecuteTime": {
     "end_time": "2024-06-17T07:21:49.310019Z",
     "start_time": "2024-06-17T07:21:49.308035Z"
    }
   },
   "cell_type": "code",
   "source": "gsm8k_test = gsm8k['test']",
   "id": "7167dc1422a4f1a9",
   "outputs": [],
   "execution_count": 18
  },
  {
   "metadata": {
    "ExecuteTime": {
     "end_time": "2024-06-17T07:21:49.312909Z",
     "start_time": "2024-06-17T07:21:49.310905Z"
    }
   },
   "cell_type": "code",
   "source": "prompt_complex = open('./lib_prompt/prompt_hardest.txt').read()",
   "id": "7f7b60274be3e657",
   "outputs": [],
   "execution_count": 19
  },
  {
   "metadata": {
    "ExecuteTime": {
     "end_time": "2024-06-17T07:21:49.317706Z",
     "start_time": "2024-06-17T07:21:49.315419Z"
    }
   },
   "cell_type": "code",
   "source": "print(prompt_complex)",
   "id": "78d5dca0dfd5f24b",
   "outputs": [
    {
     "name": "stdout",
     "output_type": "stream",
     "text": [
      "Question: Angelo and Melanie want to plan how many hours over the next week they should study together for their test next week. They have 2 chapters of their textbook to study and 4 worksheets to memorize. They figure out that they should dedicate 3 hours to each chapter of their textbook and 1.5 hours for each worksheet. If they plan to study no more than 4 hours each day, how many days should they plan to study total over the next week if they take a 10-minute break every hour, include 3 10-minute snack breaks each day, and 30 minutes for lunch each day?\n",
      "Let's think step by step\n",
      "Angelo and Melanie think they should dedicate 3 hours to each of the 2 chapters, 3 hours x 2 chapters = 6 hours total.\n",
      "For the worksheets they plan to dedicate 1.5 hours for each worksheet, 1.5 hours x 4 worksheets = 6 hours total.\n",
      "Angelo and Melanie need to start with planning 12 hours to study, at 4 hours a day, 12 / 4 = 3 days.\n",
      "However, they need to include time for breaks and lunch. Every hour they want to include a 10-minute break, so 12 total hours x 10 minutes = 120 extra minutes for breaks.\n",
      "They also want to include 3 10-minute snack breaks, 3 x 10 minutes = 30 minutes.\n",
      "And they want to include 30 minutes for lunch each day, so 120 minutes for breaks + 30 minutes for snack breaks + 30 minutes for lunch = 180 minutes, or 180 / 60 minutes per hour = 3 extra hours.\n",
      "So Angelo and Melanie want to plan 12 hours to study + 3 hours of breaks = 15 hours total.\n",
      "They want to study no more than 4 hours each day, 15 hours / 4 hours each day = 3.75\n",
      "They will need to plan to study 4 days to allow for all the time they need.\n",
      "The answer is 4\n",
      "\n",
      "Question: Mark's basketball team scores 25 2 pointers, 8 3 pointers and 10 free throws.  Their opponents score double the 2 pointers but half the 3 pointers and free throws.  What's the total number of points scored by both teams added together?\n",
      "Let's think step by step\n",
      "Mark's team scores 25 2 pointers, meaning they scored 25*2= 50 points in 2 pointers.\n",
      "His team also scores 6 3 pointers, meaning they scored 8*3= 24 points in 3 pointers\n",
      "They scored 10 free throws, and free throws count as one point so they scored 10*1=10 points in free throws.\n",
      "All together his team scored 50+24+10= 84 points\n",
      "Mark's opponents scored double his team's number of 2 pointers, meaning they scored 50*2=100 points in 2 pointers.\n",
      "His opponents scored half his team's number of 3 pointers, meaning they scored 24/2= 12 points in 3 pointers.\n",
      "They also scored half Mark's team's points in free throws, meaning they scored 10/2=5 points in free throws.\n",
      "All together Mark's opponents scored 100+12+5=117 points\n",
      "The total score for the game is both team's scores added together, so it is 84+117=201 points\n",
      "The answer is 201\n",
      "\n",
      "Question: Bella has two times as many marbles as frisbees. She also has 20 more frisbees than deck cards. If she buys 2/5 times more of each item, what would be the total number of the items she will have if she currently has 60 marbles?\n",
      "Let's think step by step\n",
      "When Bella buys 2/5 times more marbles, she'll have increased the number of marbles by 2/5*60 = 24\n",
      "The total number of marbles she'll have is 60+24 = 84\n",
      "If Bella currently has 60 marbles, and she has two times as many marbles as frisbees, she has 60/2 = 30 frisbees.\n",
      "If Bella buys 2/5 times more frisbees, she'll have 2/5*30 = 12 more frisbees.\n",
      "The total number of frisbees she'll have will increase to 30+12 = 42\n",
      "Bella also has 20 more frisbees than deck cards, meaning she has 30-20 = 10 deck cards\n",
      "If she buys 2/5 times more deck cards, she'll have 2/5*10 = 4 more deck cards.\n",
      "The total number of deck cards she'll have is 10+4 = 14\n",
      "Together, Bella will have a total of 14+42+84 = 140 items\n",
      "The answer is 140\n",
      "\n",
      "Question: A group of 4 fruit baskets contains 9 apples, 15 oranges, and 14 bananas in the first three baskets and 2 less of each fruit in the fourth basket. How many fruits are there?\n",
      "Let's think step by step\n",
      "For the first three baskets, the number of apples and oranges in one basket is 9+15=24\n",
      "In total, together with bananas, the number of fruits in one basket is 24+14=38 for the first three baskets.\n",
      "Since there are three baskets each having 38 fruits, there are 3*38=114 fruits in the first three baskets.\n",
      "The number of apples in the fourth basket is 9-2=7\n",
      "There are also 15-2=13 oranges in the fourth basket\n",
      "The combined number of oranges and apples in the fourth basket is 13+7=20\n",
      "The fourth basket also contains 14-2=12 bananas.\n",
      "In total, the fourth basket has 20+12=32 fruits.\n",
      "The four baskets together have 32+114=146 fruits.\n",
      "The answer is 146\n",
      "\n",
      "Question: You can buy 4 apples or 1 watermelon for the same price. You bought 36 fruits evenly split between oranges, apples and watermelons, and the price of 1 orange is $0.50. How much does 1 apple cost if your total bill was $66?\n",
      "Let's think step by step\n",
      "If 36 fruits were evenly split between 3 types of fruits, then I bought 36/3 = 12 units of each fruit\n",
      "If 1 orange costs $0.50 then 12 oranges will cost $0.50 * 12 = $6\n",
      "If my total bill was $66 and I spent $6 on oranges then I spent $66 - $6 = $60 on the other 2 fruit types.\n",
      "Assuming the price of watermelon is W, and knowing that you can buy 4 apples for the same price and that the price of one apple is A, then 1W=4A\n",
      "If we know we bought 12 watermelons and 12 apples for $60, then we know that $60 = 12W + 12A\n",
      "Knowing that 1W=4A, then we can convert the above to $60 = 12(4A) + 12A\n",
      "$60 = 48A + 12A\n",
      "$60 = 60A\n",
      "Then we know the price of one apple (A) is $60/60= $1\n",
      "The answer is 1\n",
      "\n",
      "Question: Susy goes to a large school with 800 students, while Sarah goes to a smaller school with only 300 students.  At the start of the school year, Susy had 100 social media followers.  She gained 40 new followers in the first week of the school year, half that in the second week, and half of that in the third week.  Sarah only had 50 social media followers at the start of the year, but she gained 90 new followers the first week, a third of that in the second week, and a third of that in the third week.  After three weeks, how many social media followers did the girl with the most total followers have?\n",
      "Let's think step by step\n",
      "After one week, Susy has 100+40 = 140 followers.\n",
      "In the second week, Susy gains 40/2 = 20 new followers.\n",
      "In the third week, Susy gains 20/2 = 10 new followers.\n",
      "In total, Susy finishes the three weeks with 140+20+10 = 170 total followers.\n",
      "After one week, Sarah has 50+90 = 140 followers.\n",
      "After the second week, Sarah gains 90/3 = 30 followers.\n",
      "After the third week, Sarah gains 30/3 = 10 followers.\n",
      "So, Sarah finishes the three weeks with 140+30+10 = 180 total followers.\n",
      "Thus, Sarah is the girl with the most total followers with a total of 180.\n",
      "The answer is 180\n",
      "\n",
      "Question: Sam bought a dozen boxes, each with 30 highlighter pens inside, for $10 each box. He rearranged five of these boxes into packages of six highlighters each and sold them for $3 per package. He sold the rest of the highlighters separately at the rate of three pens for $2. How much profit did he make in total, in dollars?\n",
      "Let's think step by step\n",
      "Sam bought 12 boxes x $10 = $120 worth of highlighters.\n",
      "He bought 12 * 30 = 360 highlighters in total.\n",
      "Sam then took 5 boxes × 6 highlighters/box = 30 highlighters.\n",
      "He sold these boxes for 5 * $3 = $15\n",
      "After selling these 5 boxes there were 360 - 30 = 330 highlighters remaining.\n",
      "These form 330 / 3 = 110 groups of three pens.\n",
      "He sold each of these groups for $2 each, so made 110 * 2 = $220 from them.\n",
      "In total, then, he earned $220 + $15 = $235.\n",
      "Since his original cost was $120, he earned $235 - $120 = $115 in profit.\n",
      "The answer is 115\n",
      "\n",
      "Question: In a certain school, 2/3 of the male students like to play basketball, but only 1/5 of the female students like to play basketball. What percent of the population of the school do not like to play basketball if the ratio of the male to female students is 3:2 and there are 1000 students?\n",
      "Let's think step by step\n",
      "The students are divided into 3 + 2 = 5 parts where 3 parts are for males and 2 parts are for females.\n",
      "Each part represents 1000/5 = 200 students.\n",
      "So, there are 3 x 200 = 600 males.\n",
      "And there are 2 x 200 = 400 females.\n",
      "Hence, 600 x 2/3 = 400 males play basketball.\n",
      "And 400 x 1/5 = 80 females play basketball.\n",
      "A total of 400 + 80 = 480 students play basketball.\n",
      "Therefore, 1000 - 480 = 520 do not like to play basketball.\n",
      "The percentage of the school that do not like to play basketball is 520/1000 * 100 = 52\n",
      "The answer is 52\n",
      "\n"
     ]
    }
   ],
   "execution_count": 20
  },
  {
   "metadata": {
    "ExecuteTime": {
     "end_time": "2024-06-17T07:21:50.327109Z",
     "start_time": "2024-06-17T07:21:49.318677Z"
    }
   },
   "cell_type": "code",
   "source": "pip install tenacity",
   "id": "4f6a760e603c0ee7",
   "outputs": [
    {
     "name": "stdout",
     "output_type": "stream",
     "text": [
      "Requirement already satisfied: tenacity in /Users/humphrey.park/Kakao/kakao-aiadvanced/lib/python3.9/site-packages (8.3.0)\r\n",
      "Note: you may need to restart the kernel to use updated packages.\n"
     ]
    }
   ],
   "execution_count": 21
  },
  {
   "metadata": {
    "ExecuteTime": {
     "end_time": "2024-06-17T07:21:50.341130Z",
     "start_time": "2024-06-17T07:21:50.328577Z"
    }
   },
   "cell_type": "code",
   "source": [
    "from tenacity import (\n",
    "    retry,\n",
    "    stop_after_attempt,\n",
    "    wait_chain,\n",
    "    wait_fixed\n",
    ")\n",
    "\n",
    "@retry(wait=wait_chain(*[wait_fixed(3) for i in range(3)] +\n",
    "                        [wait_fixed(5) for i in range(2)] +\n",
    "                        [wait_fixed(10)]))\n",
    "def completion_with_backoff(**kwargs):\n",
    "    return openai.ChatCompletion.create(**kwargs)"
   ],
   "id": "32cf958b48b16685",
   "outputs": [],
   "execution_count": 22
  },
  {
   "metadata": {
    "ExecuteTime": {
     "end_time": "2024-06-17T07:21:50.348371Z",
     "start_time": "2024-06-17T07:21:50.342176Z"
    }
   },
   "cell_type": "code",
   "source": [
    "def test_answer(pred_str, ans_str):\n",
    "    pattern = '\\d*\\.?\\d+'\n",
    "    pred = re.findall(pattern, pred_str)\n",
    "    if(len(pred) >= 1):\n",
    "        # print(pred_str)\n",
    "        pred = pred[-1]\n",
    "        gold = re.findall(pattern, ans_str)\n",
    "        # print(ans_str)\n",
    "        gold = gold[-1]\n",
    "        return pred == gold\n",
    "    else: return False\n",
    "\n",
    "def parse_pred_ans(filename):\n",
    "    with open(filename) as fd: lines = fd.readlines()\n",
    "    am, a = None, None\n",
    "    num_q, acc = 0, 0\n",
    "    current_mode = 'none'\n",
    "    questions = []\n",
    "    ans_pred = []\n",
    "    ans_gold = []\n",
    "    for l in lines:\n",
    "        if(l.startswith('Q: ')):\n",
    "            if(am is not None and a is not None):\n",
    "                questions.append(q)\n",
    "                ans_pred.append(am)\n",
    "                ans_gold.append(a)\n",
    "                if(test_answer(am, a)):\n",
    "                    acc += 1\n",
    "            current_mode = 'q'\n",
    "            q = l\n",
    "            num_q += 1\n",
    "        elif(l.startswith('A_model:')):\n",
    "            current_mode = 'am'\n",
    "            am = l\n",
    "        elif(l.startswith('A:')):\n",
    "            current_mode = 'a'\n",
    "            a = l\n",
    "        else:\n",
    "            if(current_mode == 'q'): q += l\n",
    "            elif(current_mode == 'am'): am += l\n",
    "            elif(current_mode == 'a'): a += l\n",
    "            else:\n",
    "                raise ValueError(current_mode)\n",
    "\n",
    "    questions.append(q)\n",
    "    ans_pred.append(am)\n",
    "    ans_gold.append(a)\n",
    "    if(test_answer(am, a)):\n",
    "        acc += 1\n",
    "    print('num_q %d correct %d ratio %.4f' % (num_q, acc, float(acc / num_q)))\n",
    "    return questions, ans_pred, ans_gold\n",
    "\n",
    "def test_finished(ans_model):\n",
    "    if('answer is' in ans_model): return True\n",
    "    else: return False\n",
    "\n",
    "def extract_ans(ans_model):\n",
    "    ans_model = ans_model.split('\\n')\n",
    "    ans = []\n",
    "    residual = []\n",
    "    for li, al in enumerate(ans_model):\n",
    "        ans.append(al)\n",
    "        if('answer is' in al):\n",
    "            break\n",
    "    residual = list(ans_model[li + 1:])\n",
    "    ans = '\\n'.join(ans)\n",
    "    residual = '\\n'.join(residual)\n",
    "    return ans, residual"
   ],
   "id": "eb13a425d2ef2842",
   "outputs": [],
   "execution_count": 23
  },
  {
   "metadata": {
    "ExecuteTime": {
     "end_time": "2024-06-17T07:21:50.351905Z",
     "start_time": "2024-06-17T07:21:50.349212Z"
    }
   },
   "cell_type": "code",
   "source": "prompt_q = prompt_complex + '\\nQuestion: ' + gsm8k_test[1]['question'] + '\\n'",
   "id": "2d9d980ca7fab0a6",
   "outputs": [],
   "execution_count": 24
  },
  {
   "metadata": {
    "ExecuteTime": {
     "end_time": "2024-06-17T07:21:50.354395Z",
     "start_time": "2024-06-17T07:21:50.352643Z"
    }
   },
   "cell_type": "code",
   "source": "print(prompt_q)",
   "id": "4981e2be3569d6e8",
   "outputs": [
    {
     "name": "stdout",
     "output_type": "stream",
     "text": [
      "Question: Angelo and Melanie want to plan how many hours over the next week they should study together for their test next week. They have 2 chapters of their textbook to study and 4 worksheets to memorize. They figure out that they should dedicate 3 hours to each chapter of their textbook and 1.5 hours for each worksheet. If they plan to study no more than 4 hours each day, how many days should they plan to study total over the next week if they take a 10-minute break every hour, include 3 10-minute snack breaks each day, and 30 minutes for lunch each day?\n",
      "Let's think step by step\n",
      "Angelo and Melanie think they should dedicate 3 hours to each of the 2 chapters, 3 hours x 2 chapters = 6 hours total.\n",
      "For the worksheets they plan to dedicate 1.5 hours for each worksheet, 1.5 hours x 4 worksheets = 6 hours total.\n",
      "Angelo and Melanie need to start with planning 12 hours to study, at 4 hours a day, 12 / 4 = 3 days.\n",
      "However, they need to include time for breaks and lunch. Every hour they want to include a 10-minute break, so 12 total hours x 10 minutes = 120 extra minutes for breaks.\n",
      "They also want to include 3 10-minute snack breaks, 3 x 10 minutes = 30 minutes.\n",
      "And they want to include 30 minutes for lunch each day, so 120 minutes for breaks + 30 minutes for snack breaks + 30 minutes for lunch = 180 minutes, or 180 / 60 minutes per hour = 3 extra hours.\n",
      "So Angelo and Melanie want to plan 12 hours to study + 3 hours of breaks = 15 hours total.\n",
      "They want to study no more than 4 hours each day, 15 hours / 4 hours each day = 3.75\n",
      "They will need to plan to study 4 days to allow for all the time they need.\n",
      "The answer is 4\n",
      "\n",
      "Question: Mark's basketball team scores 25 2 pointers, 8 3 pointers and 10 free throws.  Their opponents score double the 2 pointers but half the 3 pointers and free throws.  What's the total number of points scored by both teams added together?\n",
      "Let's think step by step\n",
      "Mark's team scores 25 2 pointers, meaning they scored 25*2= 50 points in 2 pointers.\n",
      "His team also scores 6 3 pointers, meaning they scored 8*3= 24 points in 3 pointers\n",
      "They scored 10 free throws, and free throws count as one point so they scored 10*1=10 points in free throws.\n",
      "All together his team scored 50+24+10= 84 points\n",
      "Mark's opponents scored double his team's number of 2 pointers, meaning they scored 50*2=100 points in 2 pointers.\n",
      "His opponents scored half his team's number of 3 pointers, meaning they scored 24/2= 12 points in 3 pointers.\n",
      "They also scored half Mark's team's points in free throws, meaning they scored 10/2=5 points in free throws.\n",
      "All together Mark's opponents scored 100+12+5=117 points\n",
      "The total score for the game is both team's scores added together, so it is 84+117=201 points\n",
      "The answer is 201\n",
      "\n",
      "Question: Bella has two times as many marbles as frisbees. She also has 20 more frisbees than deck cards. If she buys 2/5 times more of each item, what would be the total number of the items she will have if she currently has 60 marbles?\n",
      "Let's think step by step\n",
      "When Bella buys 2/5 times more marbles, she'll have increased the number of marbles by 2/5*60 = 24\n",
      "The total number of marbles she'll have is 60+24 = 84\n",
      "If Bella currently has 60 marbles, and she has two times as many marbles as frisbees, she has 60/2 = 30 frisbees.\n",
      "If Bella buys 2/5 times more frisbees, she'll have 2/5*30 = 12 more frisbees.\n",
      "The total number of frisbees she'll have will increase to 30+12 = 42\n",
      "Bella also has 20 more frisbees than deck cards, meaning she has 30-20 = 10 deck cards\n",
      "If she buys 2/5 times more deck cards, she'll have 2/5*10 = 4 more deck cards.\n",
      "The total number of deck cards she'll have is 10+4 = 14\n",
      "Together, Bella will have a total of 14+42+84 = 140 items\n",
      "The answer is 140\n",
      "\n",
      "Question: A group of 4 fruit baskets contains 9 apples, 15 oranges, and 14 bananas in the first three baskets and 2 less of each fruit in the fourth basket. How many fruits are there?\n",
      "Let's think step by step\n",
      "For the first three baskets, the number of apples and oranges in one basket is 9+15=24\n",
      "In total, together with bananas, the number of fruits in one basket is 24+14=38 for the first three baskets.\n",
      "Since there are three baskets each having 38 fruits, there are 3*38=114 fruits in the first three baskets.\n",
      "The number of apples in the fourth basket is 9-2=7\n",
      "There are also 15-2=13 oranges in the fourth basket\n",
      "The combined number of oranges and apples in the fourth basket is 13+7=20\n",
      "The fourth basket also contains 14-2=12 bananas.\n",
      "In total, the fourth basket has 20+12=32 fruits.\n",
      "The four baskets together have 32+114=146 fruits.\n",
      "The answer is 146\n",
      "\n",
      "Question: You can buy 4 apples or 1 watermelon for the same price. You bought 36 fruits evenly split between oranges, apples and watermelons, and the price of 1 orange is $0.50. How much does 1 apple cost if your total bill was $66?\n",
      "Let's think step by step\n",
      "If 36 fruits were evenly split between 3 types of fruits, then I bought 36/3 = 12 units of each fruit\n",
      "If 1 orange costs $0.50 then 12 oranges will cost $0.50 * 12 = $6\n",
      "If my total bill was $66 and I spent $6 on oranges then I spent $66 - $6 = $60 on the other 2 fruit types.\n",
      "Assuming the price of watermelon is W, and knowing that you can buy 4 apples for the same price and that the price of one apple is A, then 1W=4A\n",
      "If we know we bought 12 watermelons and 12 apples for $60, then we know that $60 = 12W + 12A\n",
      "Knowing that 1W=4A, then we can convert the above to $60 = 12(4A) + 12A\n",
      "$60 = 48A + 12A\n",
      "$60 = 60A\n",
      "Then we know the price of one apple (A) is $60/60= $1\n",
      "The answer is 1\n",
      "\n",
      "Question: Susy goes to a large school with 800 students, while Sarah goes to a smaller school with only 300 students.  At the start of the school year, Susy had 100 social media followers.  She gained 40 new followers in the first week of the school year, half that in the second week, and half of that in the third week.  Sarah only had 50 social media followers at the start of the year, but she gained 90 new followers the first week, a third of that in the second week, and a third of that in the third week.  After three weeks, how many social media followers did the girl with the most total followers have?\n",
      "Let's think step by step\n",
      "After one week, Susy has 100+40 = 140 followers.\n",
      "In the second week, Susy gains 40/2 = 20 new followers.\n",
      "In the third week, Susy gains 20/2 = 10 new followers.\n",
      "In total, Susy finishes the three weeks with 140+20+10 = 170 total followers.\n",
      "After one week, Sarah has 50+90 = 140 followers.\n",
      "After the second week, Sarah gains 90/3 = 30 followers.\n",
      "After the third week, Sarah gains 30/3 = 10 followers.\n",
      "So, Sarah finishes the three weeks with 140+30+10 = 180 total followers.\n",
      "Thus, Sarah is the girl with the most total followers with a total of 180.\n",
      "The answer is 180\n",
      "\n",
      "Question: Sam bought a dozen boxes, each with 30 highlighter pens inside, for $10 each box. He rearranged five of these boxes into packages of six highlighters each and sold them for $3 per package. He sold the rest of the highlighters separately at the rate of three pens for $2. How much profit did he make in total, in dollars?\n",
      "Let's think step by step\n",
      "Sam bought 12 boxes x $10 = $120 worth of highlighters.\n",
      "He bought 12 * 30 = 360 highlighters in total.\n",
      "Sam then took 5 boxes × 6 highlighters/box = 30 highlighters.\n",
      "He sold these boxes for 5 * $3 = $15\n",
      "After selling these 5 boxes there were 360 - 30 = 330 highlighters remaining.\n",
      "These form 330 / 3 = 110 groups of three pens.\n",
      "He sold each of these groups for $2 each, so made 110 * 2 = $220 from them.\n",
      "In total, then, he earned $220 + $15 = $235.\n",
      "Since his original cost was $120, he earned $235 - $120 = $115 in profit.\n",
      "The answer is 115\n",
      "\n",
      "Question: In a certain school, 2/3 of the male students like to play basketball, but only 1/5 of the female students like to play basketball. What percent of the population of the school do not like to play basketball if the ratio of the male to female students is 3:2 and there are 1000 students?\n",
      "Let's think step by step\n",
      "The students are divided into 3 + 2 = 5 parts where 3 parts are for males and 2 parts are for females.\n",
      "Each part represents 1000/5 = 200 students.\n",
      "So, there are 3 x 200 = 600 males.\n",
      "And there are 2 x 200 = 400 females.\n",
      "Hence, 600 x 2/3 = 400 males play basketball.\n",
      "And 400 x 1/5 = 80 females play basketball.\n",
      "A total of 400 + 80 = 480 students play basketball.\n",
      "Therefore, 1000 - 480 = 520 do not like to play basketball.\n",
      "The percentage of the school that do not like to play basketball is 520/1000 * 100 = 52\n",
      "The answer is 52\n",
      "\n",
      "Question: A robe takes 2 bolts of blue fiber and half that much white fiber.  How many bolts in total does it take?\n",
      "\n"
     ]
    }
   ],
   "execution_count": 25
  },
  {
   "metadata": {
    "ExecuteTime": {
     "end_time": "2024-06-17T07:21:52.934661Z",
     "start_time": "2024-06-17T07:21:50.355094Z"
    }
   },
   "cell_type": "code",
   "source": [
    "response = openai.ChatCompletion.create(\n",
    "    model=\"gpt-3.5-turbo\",\n",
    "    messages=[\n",
    "        {\"role\": \"system\", \"content\": \"Follow the given examples and answer the question.\"},\n",
    "        {\"role\": \"user\", \"content\": prompt_q},\n",
    "    ]\n",
    ")"
   ],
   "id": "de50656a76647e9a",
   "outputs": [],
   "execution_count": 26
  },
  {
   "metadata": {
    "ExecuteTime": {
     "end_time": "2024-06-17T07:22:09.865306Z",
     "start_time": "2024-06-17T07:22:09.861466Z"
    }
   },
   "cell_type": "code",
   "source": "response['choices'][0]['message']['content']",
   "id": "c80cb5a5d8ea3ecb",
   "outputs": [
    {
     "data": {
      "text/plain": [
       "\"To find the total number of bolts needed, we first consider that the robe requires 2 bolts of blue fiber and half that much white fiber. \\n\\nLet's first find out how many bolts of white fiber are needed:\\n\\n1. Blue fiber = 2 bolts\\n2. White fiber = 1/2 * 2 bolts = 1 bolt\\n\\nTherefore, the total number of bolts needed for the robe is 2 (blue) + 1 (white) = 3 bolts in total. \\n\\nThe robe will need 3 bolts in total.\""
      ]
     },
     "execution_count": 27,
     "metadata": {},
     "output_type": "execute_result"
    }
   ],
   "execution_count": 27
  },
  {
   "metadata": {
    "ExecuteTime": {
     "end_time": "2024-06-17T07:22:16.373033Z",
     "start_time": "2024-06-17T07:22:16.370583Z"
    }
   },
   "cell_type": "code",
   "source": "print(response['choices'][0]['message']['content'])",
   "id": "31e9c2ff3ed13dd2",
   "outputs": [
    {
     "name": "stdout",
     "output_type": "stream",
     "text": [
      "To find the total number of bolts needed, we first consider that the robe requires 2 bolts of blue fiber and half that much white fiber. \n",
      "\n",
      "Let's first find out how many bolts of white fiber are needed:\n",
      "\n",
      "1. Blue fiber = 2 bolts\n",
      "2. White fiber = 1/2 * 2 bolts = 1 bolt\n",
      "\n",
      "Therefore, the total number of bolts needed for the robe is 2 (blue) + 1 (white) = 3 bolts in total. \n",
      "\n",
      "The robe will need 3 bolts in total.\n"
     ]
    }
   ],
   "execution_count": 28
  },
  {
   "metadata": {
    "ExecuteTime": {
     "end_time": "2024-06-17T08:48:55.311608Z",
     "start_time": "2024-06-17T08:14:33.899425Z"
    }
   },
   "cell_type": "code",
   "source": [
    "# prompt_q를 압축해서 시도\n",
    "\n",
    "from llmlingua import PromptCompressor\n",
    "llm_lingua = PromptCompressor(device_map=\"mps\")\n",
    "compressed_prompt = llm_lingua.compress_prompt(prompt_q, target_token=500)"
   ],
   "id": "9c53cf1046d67a31",
   "outputs": [
    {
     "data": {
      "text/plain": [
       "Loading checkpoint shards:   0%|          | 0/2 [00:00<?, ?it/s]"
      ],
      "application/vnd.jupyter.widget-view+json": {
       "version_major": 2,
       "version_minor": 0,
       "model_id": "c6fe88c6a2364bc7b2a1dd4990c2b742"
      }
     },
     "metadata": {},
     "output_type": "display_data"
    }
   ],
   "execution_count": 42
  },
  {
   "metadata": {
    "ExecuteTime": {
     "end_time": "2024-06-17T08:13:42.491452Z",
     "start_time": "2024-06-17T08:13:42.488750Z"
    }
   },
   "cell_type": "code",
   "source": "print(compressed_prompt['compressed_prompt'])",
   "id": "8d128a8f5b923495",
   "outputs": [
    {
     "name": "stdout",
     "output_type": "stream",
     "text": [
      ": Angelo andanie to plan many hours study their test24 to They should study study total week they1 hour,3 breaks and\n",
      "s think step\n",
      "anie eachters hours hours\n",
      "ate1 hours each hours\n",
      " andanie to start with planning,\n",
      " to. they203ute\n",
      "unch for  minutes hour3\n",
      "So andanie study study5 days to for\n",
      "The4\n",
      "\n",
      ": Marks team52.  score teams\n",
      "s,5\n",
      " team also63,8\n",
      " and throws point\n",
      " together0\n",
      "s scoreds scored4 half5\n",
      "The is The\n",
      ": B has two as than she2 more what of have she\n",
      "s\n",
      " have5ella manybles as0\n",
      " Bella25 will more than deck, have\n",
      "+0The A4anas first2 many there\n",
      "\n",
      "\n",
      ",8\n",
      "ets3anges theThe combined3 basket4\n",
      "The1\n",
      ":13ruits between cost\n",
      "\n",
      ", then I632\n",
      "1If\n",
      " of is and that price\n",
      " can)2\n",
      "\n",
      ": a large,0,, many the most\n",
      "\n",
      ",0y total\n",
      ",:0 Heanged into\n",
      "0 boxesters0He5 boxes0ese three to3, 1000 - 480 = 520 do not like to play basketball.\n",
      "The percentage of the school that do not like to play basketball is 520/1000 * 100 = 52\n",
      "The answer is 52\n",
      "\n",
      "Question: John hires a driving service to get him to work each day.  His work is 30 miles away and he has to go there and back each day.  He goes to work 5 days a week for 50 weeks a year.  He gets charged $2 per mile driven and he also gives his driver a $150 bonus per month.  How much does he pay a year for driving?\n",
      "\n"
     ]
    }
   ],
   "execution_count": 41
  },
  {
   "metadata": {
    "ExecuteTime": {
     "end_time": "2024-06-17T08:12:50.536152Z",
     "start_time": "2024-06-17T08:12:47.051939Z"
    }
   },
   "cell_type": "code",
   "source": [
    "response = openai.ChatCompletion.create(\n",
    "    model=\"gpt-3.5-turbo\",\n",
    "    messages=[\n",
    "        {\"role\": \"system\", \"content\": \"Follow the given examples and answer the question.\"},\n",
    "        {\"role\": \"user\", \"content\": compressed_prompt['compressed_prompt']},\n",
    "    ]\n",
    ")"
   ],
   "id": "40683cf42b45de48",
   "outputs": [],
   "execution_count": 38
  },
  {
   "metadata": {
    "ExecuteTime": {
     "end_time": "2024-06-17T08:12:54.380045Z",
     "start_time": "2024-06-17T08:12:54.375526Z"
    }
   },
   "cell_type": "code",
   "source": "response['choices'][0]['message']['content']",
   "id": "45241984f4f2d0ae",
   "outputs": [
    {
     "data": {
      "text/plain": [
       "'John drives a total of 30 miles to work and back each day, so he drives 30 * 2 = 60 miles per day.\\nHe goes to work 5 days a week, so he drives 60 * 5 = 300 miles per week.\\nHe works for 50 weeks a year, so he drives 300 * 50 = 15,000 miles per year.\\nThe cost per mile is $2, so he pays 15,000 * 2 = $30,000 per year for driving.\\nHe also gives his driver a $150 bonus per month, which is $150 * 12 = $1800 per year.\\nTherefore, John pays a total of $30,000 + $1800 = $31,800 per year for driving.'"
      ]
     },
     "execution_count": 39,
     "metadata": {},
     "output_type": "execute_result"
    }
   ],
   "execution_count": 39
  },
  {
   "metadata": {
    "ExecuteTime": {
     "end_time": "2024-06-17T08:12:58.048408Z",
     "start_time": "2024-06-17T08:12:58.044844Z"
    }
   },
   "cell_type": "code",
   "source": "print(response['choices'][0]['message']['content'])",
   "id": "b9f04fd5717dea92",
   "outputs": [
    {
     "name": "stdout",
     "output_type": "stream",
     "text": [
      "John drives a total of 30 miles to work and back each day, so he drives 30 * 2 = 60 miles per day.\n",
      "He goes to work 5 days a week, so he drives 60 * 5 = 300 miles per week.\n",
      "He works for 50 weeks a year, so he drives 300 * 50 = 15,000 miles per year.\n",
      "The cost per mile is $2, so he pays 15,000 * 2 = $30,000 per year for driving.\n",
      "He also gives his driver a $150 bonus per month, which is $150 * 12 = $1800 per year.\n",
      "Therefore, John pays a total of $30,000 + $1800 = $31,800 per year for driving.\n"
     ]
    }
   ],
   "execution_count": 40
  },
  {
   "metadata": {},
   "cell_type": "code",
   "outputs": [],
   "execution_count": null,
   "source": "",
   "id": "a0e128e180494c5c"
  }
 ],
 "metadata": {
  "kernelspec": {
   "display_name": "Python 3",
   "language": "python",
   "name": "python3"
  },
  "language_info": {
   "codemirror_mode": {
    "name": "ipython",
    "version": 2
   },
   "file_extension": ".py",
   "mimetype": "text/x-python",
   "name": "python",
   "nbconvert_exporter": "python",
   "pygments_lexer": "ipython2",
   "version": "2.7.6"
  }
 },
 "nbformat": 4,
 "nbformat_minor": 5
}
